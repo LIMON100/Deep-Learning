{
  "nbformat": 4,
  "nbformat_minor": 0,
  "metadata": {
    "colab": {
      "provenance": [],
      "gpuType": "T4"
    },
    "kernelspec": {
      "name": "python3",
      "display_name": "Python 3"
    },
    "language_info": {
      "name": "python"
    },
    "accelerator": "GPU"
  },
  "cells": [
    {
      "cell_type": "code",
      "execution_count": 29,
      "metadata": {
        "id": "IiFoqlfb3o_5"
      },
      "outputs": [],
      "source": [
        "import tensorflow as tf\n",
        "import numpy as np\n",
        "import matplotlib.pyplot as plt\n",
        "from tensorflow.keras.models import Model\n",
        "from tensorflow.keras.layers import Layer\n",
        "from tensorflow.keras.layers import (Reshape,LeakyReLU,Dropout,Conv2DTranspose, Add, Conv2D, MaxPool2D, Dense,\n",
        "                                     Flatten, InputLayer, BatchNormalization, Input, )\n",
        "from tensorflow.keras.optimizers import Adam"
      ]
    },
    {
      "cell_type": "code",
      "source": [
        "!pip install -q kaggle\n",
        "! mkdir ~/.kaggle\n",
        "! cp kaggle.json ~/.kaggle/\n",
        "!chmod 600 /root/.kaggle/kaggle.json\n",
        "!kaggle datasets download -d jessicali9530/celeba-dataset\n",
        "!unzip \"/content/celeba-dataset.zip\" -d \"/content/dataset/\""
      ],
      "metadata": {
        "colab": {
          "base_uri": "https://localhost:8080/"
        },
        "id": "A6g2800UULA3",
        "outputId": "49c5ff5c-313a-4628-c567-dc5790de0701"
      },
      "execution_count": 30,
      "outputs": [
        {
          "output_type": "stream",
          "name": "stdout",
          "text": [
            "mkdir: cannot create directory ‘/root/.kaggle’: File exists\n",
            "celeba-dataset.zip: Skipping, found more recently modified local copy (use --force to force download)\n",
            "Archive:  /content/celeba-dataset.zip\n",
            "replace /content/dataset/img_align_celeba/img_align_celeba/000001.jpg? [y]es, [n]o, [A]ll, [N]one, [r]ename: "
          ]
        }
      ]
    },
    {
      "cell_type": "code",
      "source": [
        "BATCH_SIZE = 128\n",
        "IM_SHAPE = (64,64,3)\n",
        "LEARNING_RATE = 2e-4\n",
        "LATENT_DIM=100\n",
        "EPOCHS=20"
      ],
      "metadata": {
        "id": "CcRBfCYjUMVP"
      },
      "execution_count": 31,
      "outputs": []
    },
    {
      "cell_type": "code",
      "source": [
        "dataset = tf.keras.preprocessing.image_dataset_from_directory(\n",
        "    \"/content/dataset/img_align_celeba/img_align_celeba\", label_mode=None, image_size=(IM_SHAPE[0], IM_SHAPE[1]), batch_size=BATCH_SIZE\n",
        ")"
      ],
      "metadata": {
        "colab": {
          "base_uri": "https://localhost:8080/"
        },
        "id": "JPRuiGf6UMZt",
        "outputId": "439755d8-acc6-4678-a101-955a42c3d505"
      },
      "execution_count": 32,
      "outputs": [
        {
          "output_type": "stream",
          "name": "stdout",
          "text": [
            "Found 202599 files belonging to 1 classes.\n"
          ]
        }
      ]
    },
    {
      "cell_type": "markdown",
      "source": [
        "## Preprocess"
      ],
      "metadata": {
        "id": "EmLL5G5bXR2I"
      }
    },
    {
      "cell_type": "code",
      "source": [
        "def preprocess(image):\n",
        "  return tf.cast(image, tf.float32) / 127.5 - 1.0"
      ],
      "metadata": {
        "id": "LZo75PjjUMb_"
      },
      "execution_count": 33,
      "outputs": []
    },
    {
      "cell_type": "code",
      "source": [
        "train_dataset = (\n",
        "    dataset\n",
        "    .map(preprocess)\n",
        "    .unbatch()\n",
        "    .shuffle(buffer_size = 1024, reshuffle_each_iteration = True)\n",
        "    .batch(BATCH_SIZE,drop_remainder=True)\n",
        "    .prefetch(tf.data.AUTOTUNE)\n",
        ")"
      ],
      "metadata": {
        "id": "X4FYlWXnUMd7"
      },
      "execution_count": 34,
      "outputs": []
    },
    {
      "cell_type": "code",
      "source": [
        "for d in train_dataset.take(1):\n",
        "  print(d.shape)"
      ],
      "metadata": {
        "colab": {
          "base_uri": "https://localhost:8080/"
        },
        "id": "b25it741UMfy",
        "outputId": "6ca56a7c-ef08-4443-a883-05561c140f4e"
      },
      "execution_count": 35,
      "outputs": [
        {
          "output_type": "stream",
          "name": "stdout",
          "text": [
            "(128, 64, 64, 3)\n"
          ]
        }
      ]
    },
    {
      "cell_type": "code",
      "source": [
        "plt.figure(figsize = (6,6))\n",
        "k=0\n",
        "n = 4\n",
        "for i in range(n):\n",
        "  ax = plt.subplot(2,2, k+1)\n",
        "  plt.imshow((d[i]+1)/2)\n",
        "  plt.axis(\"off\")\n",
        "  k+=1"
      ],
      "metadata": {
        "colab": {
          "base_uri": "https://localhost:8080/",
          "height": 499
        },
        "id": "zoclxhKsUMlL",
        "outputId": "691683d6-5b21-4ce2-c0e1-c931beb793ea"
      },
      "execution_count": 36,
      "outputs": [
        {
          "output_type": "display_data",
          "data": {
            "text/plain": [
              "<Figure size 600x600 with 4 Axes>"
            ],
            "image/png": "[encoded data removed]"
          },
          "metadata": {}
        }
      ]
    },
    {
      "cell_type": "markdown",
      "source": [
        "## Modeling"
      ],
      "metadata": {
        "id": "fOma9rLpgayu"
      }
    },
    {
      "cell_type": "code",
      "source": [
        "generator=tf.keras.Sequential([\n",
        "  Input(shape=(LATENT_DIM,)),\n",
        "  Dense(4*4*LATENT_DIM),\n",
        "  Reshape((4,4,LATENT_DIM)),\n",
        "\n",
        "  Conv2DTranspose(512,kernel_size=4,strides=2, padding='same'),\n",
        "  BatchNormalization(),\n",
        "  LeakyReLU(0.2),\n",
        "\n",
        "  Conv2DTranspose(256,kernel_size=4,strides=2, padding='same'),\n",
        "  BatchNormalization(),\n",
        "  LeakyReLU(0.2),\n",
        "\n",
        "  Conv2DTranspose(128,kernel_size=4,strides=2, padding='same'),\n",
        "  BatchNormalization(),\n",
        "  LeakyReLU(0.2),\n",
        "\n",
        "  Conv2DTranspose(3,kernel_size=4,strides=2, activation=tf.keras.activations.tanh, padding='same'),\n",
        "\n",
        "],name='generator')"
      ],
      "metadata": {
        "id": "nWwotBwLUMoE"
      },
      "execution_count": 37,
      "outputs": []
    },
    {
      "cell_type": "code",
      "source": [
        "generator.summary()"
      ],
      "metadata": {
        "colab": {
          "base_uri": "https://localhost:8080/"
        },
        "id": "Zze7qV0ogeTN",
        "outputId": "22b25a20-1b6f-42cb-865a-31458d69b772"
      },
      "execution_count": 38,
      "outputs": [
        {
          "output_type": "stream",
          "name": "stdout",
          "text": [
            "Model: \"generator\"\n",
            "_________________________________________________________________\n",
            " Layer (type)                Output Shape              Param #   \n",
            "=================================================================\n",
            " dense_2 (Dense)             (None, 1600)              161600    \n",
            "                                                                 \n",
            " reshape_1 (Reshape)         (None, 4, 4, 100)         0         \n",
            "                                                                 \n",
            " conv2d_transpose_4 (Conv2DT  (None, 8, 8, 512)        819712    \n",
            " ranspose)                                                       \n",
            "                                                                 \n",
            " batch_normalization_5 (Batc  (None, 8, 8, 512)        2048      \n",
            " hNormalization)                                                 \n",
            "                                                                 \n",
            " leaky_re_lu_6 (LeakyReLU)   (None, 8, 8, 512)         0         \n",
            "                                                                 \n",
            " conv2d_transpose_5 (Conv2DT  (None, 16, 16, 256)      2097408   \n",
            " ranspose)                                                       \n",
            "                                                                 \n",
            " batch_normalization_6 (Batc  (None, 16, 16, 256)      1024      \n",
            " hNormalization)                                                 \n",
            "                                                                 \n",
            " leaky_re_lu_7 (LeakyReLU)   (None, 16, 16, 256)       0         \n",
            "                                                                 \n",
            " conv2d_transpose_6 (Conv2DT  (None, 32, 32, 128)      524416    \n",
            " ranspose)                                                       \n",
            "                                                                 \n",
            " batch_normalization_7 (Batc  (None, 32, 32, 128)      512       \n",
            " hNormalization)                                                 \n",
            "                                                                 \n",
            " leaky_re_lu_8 (LeakyReLU)   (None, 32, 32, 128)       0         \n",
            "                                                                 \n",
            " conv2d_transpose_7 (Conv2DT  (None, 64, 64, 3)        6147      \n",
            " ranspose)                                                       \n",
            "                                                                 \n",
            "=================================================================\n",
            "Total params: 3,612,867\n",
            "Trainable params: 3,611,075\n",
            "Non-trainable params: 1,792\n",
            "_________________________________________________________________\n"
          ]
        }
      ]
    },
    {
      "cell_type": "code",
      "source": [
        "discriminator=tf.keras.Sequential([\n",
        "  Input(shape=(IM_SHAPE[0],IM_SHAPE[1],3)),\n",
        "\n",
        "  Conv2D(64,kernel_size=4,strides=2, padding='same'),\n",
        "  LeakyReLU(0.2),\n",
        "\n",
        "  Conv2D(128,kernel_size=4,strides=2, padding='same'),\n",
        "  BatchNormalization(),\n",
        "  LeakyReLU(0.2),\n",
        "\n",
        "  Conv2D(256,kernel_size=4,strides=2, padding='same'),\n",
        "  BatchNormalization(),\n",
        "  LeakyReLU(0.2),\n",
        "\n",
        "  Conv2D(1,kernel_size=4,strides=2, padding='same'),\n",
        "\n",
        "  Flatten(),\n",
        "  Dense(1,activation='sigmoid')\n",
        "\n",
        "\n",
        "],name='discriminator')"
      ],
      "metadata": {
        "id": "1WABfFSfgeWV"
      },
      "execution_count": 39,
      "outputs": []
    },
    {
      "cell_type": "code",
      "source": [
        "discriminator.summary()"
      ],
      "metadata": {
        "colab": {
          "base_uri": "https://localhost:8080/"
        },
        "id": "HnfxL9oviLQ4",
        "outputId": "d4589a65-67ed-4452-848f-2f72aa553e76"
      },
      "execution_count": 40,
      "outputs": [
        {
          "output_type": "stream",
          "name": "stdout",
          "text": [
            "Model: \"discriminator\"\n",
            "_________________________________________________________________\n",
            " Layer (type)                Output Shape              Param #   \n",
            "=================================================================\n",
            " conv2d_4 (Conv2D)           (None, 32, 32, 64)        3136      \n",
            "                                                                 \n",
            " leaky_re_lu_9 (LeakyReLU)   (None, 32, 32, 64)        0         \n",
            "                                                                 \n",
            " conv2d_5 (Conv2D)           (None, 16, 16, 128)       131200    \n",
            "                                                                 \n",
            " batch_normalization_8 (Batc  (None, 16, 16, 128)      512       \n",
            " hNormalization)                                                 \n",
            "                                                                 \n",
            " leaky_re_lu_10 (LeakyReLU)  (None, 16, 16, 128)       0         \n",
            "                                                                 \n",
            " conv2d_6 (Conv2D)           (None, 8, 8, 256)         524544    \n",
            "                                                                 \n",
            " batch_normalization_9 (Batc  (None, 8, 8, 256)        1024      \n",
            " hNormalization)                                                 \n",
            "                                                                 \n",
            " leaky_re_lu_11 (LeakyReLU)  (None, 8, 8, 256)         0         \n",
            "                                                                 \n",
            " conv2d_7 (Conv2D)           (None, 4, 4, 1)           4097      \n",
            "                                                                 \n",
            " flatten_1 (Flatten)         (None, 16)                0         \n",
            "                                                                 \n",
            " dense_3 (Dense)             (None, 1)                 17        \n",
            "                                                                 \n",
            "=================================================================\n",
            "Total params: 664,530\n",
            "Trainable params: 663,762\n",
            "Non-trainable params: 768\n",
            "_________________________________________________________________\n"
          ]
        }
      ]
    },
    {
      "cell_type": "code",
      "source": [
        "class ShowImage(tf.keras.callbacks.Callback):\n",
        "    def __init__(self, latent_dim=100):\n",
        "        self.latent_dim = latent_dim\n",
        "\n",
        "    def on_epoch_end(self, epoch, logs=None):\n",
        "        n=6\n",
        "        k=0\n",
        "        out=self.model.generator(tf.random.normal(shape=(36, self.latent_dim)))\n",
        "        plt.figure(figsize=(16,16))\n",
        "        for i in range(n):\n",
        "          for j in range(n):\n",
        "            ax=plt.subplot(n,n,k+1)\n",
        "            plt.imshow((out[k]+1)/2,)\n",
        "            plt.axis('off')\n",
        "            k+=1\n",
        "        plt.savefig(\"generated/gen_images_epoch_{}.png\".format(epoch+1))"
      ],
      "metadata": {
        "id": "NnNwqC0GgeZ3"
      },
      "execution_count": 41,
      "outputs": []
    },
    {
      "cell_type": "code",
      "source": [
        "class GAN(tf.keras.Model):\n",
        "  def __init__(self,discriminator,generator):\n",
        "    super(GAN,self).__init__()\n",
        "    self.discriminator=discriminator\n",
        "    self.generator=generator\n",
        "\n",
        "  def compile(self,d_optimizer,g_optimizer,loss_fn):\n",
        "    super(GAN,self).compile()\n",
        "    self.d_optimizer=d_optimizer\n",
        "    self.g_optimizer=g_optimizer\n",
        "    self.loss_fn=loss_fn\n",
        "    self.d_loss_metric=tf.keras.metrics.Mean(name='d_loss')\n",
        "    self.g_loss_metric=tf.keras.metrics.Mean(name='g_loss')\n",
        "\n",
        "  @property\n",
        "  def metrics(self):\n",
        "    return [self.d_loss_metric,self.g_loss_metric]\n",
        "\n",
        "  def train_step(self,real_images):\n",
        "    batch_size=tf.shape(real_images)[0]\n",
        "\n",
        "    ######## Discriminator\n",
        "    random_noise=tf.random.normal(shape=(batch_size,LATENT_DIM))\n",
        "    fake_images=self.generator(random_noise)\n",
        "\n",
        "    real_labels=tf.ones((batch_size,1))+0.25*tf.random.uniform((batch_size,1),minval=-1,maxval=1)\n",
        "    fake_labels=tf.zeros((batch_size,1))+0.25*tf.random.uniform((batch_size,1),)\n",
        "\n",
        "    with tf.GradientTape() as recorder:\n",
        "      real_predictions=self.discriminator(real_images)\n",
        "      d_loss_real=self.loss_fn(real_labels,real_predictions)\n",
        "\n",
        "      fake_predictions=self.discriminator(fake_images)\n",
        "      d_loss_fake=self.loss_fn(fake_labels,fake_predictions)\n",
        "\n",
        "      d_loss=d_loss_real+d_loss_fake\n",
        "\n",
        "    partial_derivatives = recorder.gradient(d_loss,self.discriminator.trainable_weights)\n",
        "    self.d_optimizer.apply_gradients(zip(partial_derivatives, self.discriminator.trainable_weights))\n",
        "\n",
        "    ############# Generator\n",
        "    random_noise=tf.random.normal(shape=(batch_size,LATENT_DIM))\n",
        "    flipped_fake_labels=tf.ones((batch_size,1))\n",
        "\n",
        "    with tf.GradientTape() as recorder:\n",
        "\n",
        "      fake_predictions=self.discriminator(self.generator(random_noise))\n",
        "      g_loss=self.loss_fn(flipped_fake_labels,fake_predictions)\n",
        "\n",
        "    partial_derivatives = recorder.gradient(g_loss,self.generator.trainable_weights)\n",
        "    self.g_optimizer.apply_gradients(zip(partial_derivatives, self.generator.trainable_weights))\n",
        "\n",
        "    self.d_loss_metric.update_state(d_loss)\n",
        "    self.g_loss_metric.update_state(g_loss)\n",
        "\n",
        "    return {'d_loss':self.d_loss_metric.result(),\n",
        "            'g_loss':self.g_loss_metric.result()}"
      ],
      "metadata": {
        "id": "TZD-A38-geec"
      },
      "execution_count": 42,
      "outputs": []
    },
    {
      "cell_type": "code",
      "source": [
        "gan=GAN(discriminator,generator)\n",
        "gan.compile(\n",
        "    d_optimizer=tf.keras.optimizers.Adam(learning_rate=LEARNING_RATE,beta_1=0.5),\n",
        "    g_optimizer=tf.keras.optimizers.Adam(learning_rate=LEARNING_RATE,beta_1=0.5),\n",
        "    loss_fn=tf.keras.losses.BinaryCrossentropy(),\n",
        ")"
      ],
      "metadata": {
        "id": "w64ziVPjgcMi"
      },
      "execution_count": 43,
      "outputs": []
    },
    {
      "cell_type": "code",
      "source": [
        "!mkdir generated"
      ],
      "metadata": {
        "id": "vW6s9Akrk_dc"
      },
      "execution_count": 44,
      "outputs": []
    },
    {
      "cell_type": "code",
      "source": [
        "EPOCHS=2\n",
        "history=gan.fit(train_dataset,epochs=EPOCHS,callbacks=[ShowImage(LATENT_DIM)])"
      ],
      "metadata": {
        "colab": {
          "base_uri": "https://localhost:8080/"
        },
        "id": "sramAOJki4xt",
        "outputId": "234a218b-2157-4deb-e172-c7a386ab39fb"
      },
      "execution_count": null,
      "outputs": [
        {
          "output_type": "stream",
          "name": "stdout",
          "text": [
            "Epoch 1/2\n",
            "      3/Unknown - 20s 179ms/step - d_loss: 1.1718 - g_loss: 0.6762"
          ]
        }
      ]
    },
    {
      "cell_type": "code",
      "source": [
        "plt.plot(history.history['d_loss'])\n",
        "plt.plot(history.history['g_loss'])\n",
        "plt.title('GAN Loss')\n",
        "plt.ylabel('Loss')\n",
        "plt.xlabel('epoch')\n",
        "plt.legend(['d_loss', 'g_loss'], loc='upper left')\n",
        "plt.show()"
      ],
      "metadata": {
        "id": "jr5cgdndjL3e"
      },
      "execution_count": null,
      "outputs": []
    }
  ]
}