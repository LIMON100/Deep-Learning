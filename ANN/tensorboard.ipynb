{
 "cells": [
  {
   "cell_type": "code",
   "execution_count": 21,
   "metadata": {},
   "outputs": [],
   "source": [
    "import numpy as np\n",
    "import pandas as pd\n",
    "import matplotlib.pyplot as plt\n",
    "import tensorflow as tf\n",
    "import seaborn as sns\n",
    "\n",
    "from tensorflow.keras.models import Sequential\n",
    "from tensorflow.keras.layers import Dense , Activation , Dropout\n",
    "\n",
    "from sklearn.model_selection import train_test_split\n",
    "from sklearn.preprocessing import MinMaxScaler\n",
    "\n",
    "from tensorflow.keras.callbacks import EarlyStopping , TensorBoard\n",
    "\n",
    "from datetime import datetime"
   ]
  },
  {
   "cell_type": "code",
   "execution_count": 22,
   "metadata": {},
   "outputs": [
    {
     "data": {
      "text/html": [
       "<div>\n",
       "<style scoped>\n",
       "    .dataframe tbody tr th:only-of-type {\n",
       "        vertical-align: middle;\n",
       "    }\n",
       "\n",
       "    .dataframe tbody tr th {\n",
       "        vertical-align: top;\n",
       "    }\n",
       "\n",
       "    .dataframe thead th {\n",
       "        text-align: right;\n",
       "    }\n",
       "</style>\n",
       "<table border=\"1\" class=\"dataframe\">\n",
       "  <thead>\n",
       "    <tr style=\"text-align: right;\">\n",
       "      <th></th>\n",
       "      <th>mean radius</th>\n",
       "      <th>mean texture</th>\n",
       "      <th>mean perimeter</th>\n",
       "      <th>mean area</th>\n",
       "      <th>mean smoothness</th>\n",
       "      <th>mean compactness</th>\n",
       "      <th>mean concavity</th>\n",
       "      <th>mean concave points</th>\n",
       "      <th>mean symmetry</th>\n",
       "      <th>mean fractal dimension</th>\n",
       "      <th>...</th>\n",
       "      <th>worst texture</th>\n",
       "      <th>worst perimeter</th>\n",
       "      <th>worst area</th>\n",
       "      <th>worst smoothness</th>\n",
       "      <th>worst compactness</th>\n",
       "      <th>worst concavity</th>\n",
       "      <th>worst concave points</th>\n",
       "      <th>worst symmetry</th>\n",
       "      <th>worst fractal dimension</th>\n",
       "      <th>benign_0__mal_1</th>\n",
       "    </tr>\n",
       "  </thead>\n",
       "  <tbody>\n",
       "    <tr>\n",
       "      <td>0</td>\n",
       "      <td>17.99</td>\n",
       "      <td>10.38</td>\n",
       "      <td>122.80</td>\n",
       "      <td>1001.0</td>\n",
       "      <td>0.11840</td>\n",
       "      <td>0.27760</td>\n",
       "      <td>0.3001</td>\n",
       "      <td>0.14710</td>\n",
       "      <td>0.2419</td>\n",
       "      <td>0.07871</td>\n",
       "      <td>...</td>\n",
       "      <td>17.33</td>\n",
       "      <td>184.60</td>\n",
       "      <td>2019.0</td>\n",
       "      <td>0.1622</td>\n",
       "      <td>0.6656</td>\n",
       "      <td>0.7119</td>\n",
       "      <td>0.2654</td>\n",
       "      <td>0.4601</td>\n",
       "      <td>0.11890</td>\n",
       "      <td>0</td>\n",
       "    </tr>\n",
       "    <tr>\n",
       "      <td>1</td>\n",
       "      <td>20.57</td>\n",
       "      <td>17.77</td>\n",
       "      <td>132.90</td>\n",
       "      <td>1326.0</td>\n",
       "      <td>0.08474</td>\n",
       "      <td>0.07864</td>\n",
       "      <td>0.0869</td>\n",
       "      <td>0.07017</td>\n",
       "      <td>0.1812</td>\n",
       "      <td>0.05667</td>\n",
       "      <td>...</td>\n",
       "      <td>23.41</td>\n",
       "      <td>158.80</td>\n",
       "      <td>1956.0</td>\n",
       "      <td>0.1238</td>\n",
       "      <td>0.1866</td>\n",
       "      <td>0.2416</td>\n",
       "      <td>0.1860</td>\n",
       "      <td>0.2750</td>\n",
       "      <td>0.08902</td>\n",
       "      <td>0</td>\n",
       "    </tr>\n",
       "    <tr>\n",
       "      <td>2</td>\n",
       "      <td>19.69</td>\n",
       "      <td>21.25</td>\n",
       "      <td>130.00</td>\n",
       "      <td>1203.0</td>\n",
       "      <td>0.10960</td>\n",
       "      <td>0.15990</td>\n",
       "      <td>0.1974</td>\n",
       "      <td>0.12790</td>\n",
       "      <td>0.2069</td>\n",
       "      <td>0.05999</td>\n",
       "      <td>...</td>\n",
       "      <td>25.53</td>\n",
       "      <td>152.50</td>\n",
       "      <td>1709.0</td>\n",
       "      <td>0.1444</td>\n",
       "      <td>0.4245</td>\n",
       "      <td>0.4504</td>\n",
       "      <td>0.2430</td>\n",
       "      <td>0.3613</td>\n",
       "      <td>0.08758</td>\n",
       "      <td>0</td>\n",
       "    </tr>\n",
       "    <tr>\n",
       "      <td>3</td>\n",
       "      <td>11.42</td>\n",
       "      <td>20.38</td>\n",
       "      <td>77.58</td>\n",
       "      <td>386.1</td>\n",
       "      <td>0.14250</td>\n",
       "      <td>0.28390</td>\n",
       "      <td>0.2414</td>\n",
       "      <td>0.10520</td>\n",
       "      <td>0.2597</td>\n",
       "      <td>0.09744</td>\n",
       "      <td>...</td>\n",
       "      <td>26.50</td>\n",
       "      <td>98.87</td>\n",
       "      <td>567.7</td>\n",
       "      <td>0.2098</td>\n",
       "      <td>0.8663</td>\n",
       "      <td>0.6869</td>\n",
       "      <td>0.2575</td>\n",
       "      <td>0.6638</td>\n",
       "      <td>0.17300</td>\n",
       "      <td>0</td>\n",
       "    </tr>\n",
       "    <tr>\n",
       "      <td>4</td>\n",
       "      <td>20.29</td>\n",
       "      <td>14.34</td>\n",
       "      <td>135.10</td>\n",
       "      <td>1297.0</td>\n",
       "      <td>0.10030</td>\n",
       "      <td>0.13280</td>\n",
       "      <td>0.1980</td>\n",
       "      <td>0.10430</td>\n",
       "      <td>0.1809</td>\n",
       "      <td>0.05883</td>\n",
       "      <td>...</td>\n",
       "      <td>16.67</td>\n",
       "      <td>152.20</td>\n",
       "      <td>1575.0</td>\n",
       "      <td>0.1374</td>\n",
       "      <td>0.2050</td>\n",
       "      <td>0.4000</td>\n",
       "      <td>0.1625</td>\n",
       "      <td>0.2364</td>\n",
       "      <td>0.07678</td>\n",
       "      <td>0</td>\n",
       "    </tr>\n",
       "  </tbody>\n",
       "</table>\n",
       "<p>5 rows × 31 columns</p>\n",
       "</div>"
      ],
      "text/plain": [
       "   mean radius  mean texture  mean perimeter  mean area  mean smoothness  \\\n",
       "0        17.99         10.38          122.80     1001.0          0.11840   \n",
       "1        20.57         17.77          132.90     1326.0          0.08474   \n",
       "2        19.69         21.25          130.00     1203.0          0.10960   \n",
       "3        11.42         20.38           77.58      386.1          0.14250   \n",
       "4        20.29         14.34          135.10     1297.0          0.10030   \n",
       "\n",
       "   mean compactness  mean concavity  mean concave points  mean symmetry  \\\n",
       "0           0.27760          0.3001              0.14710         0.2419   \n",
       "1           0.07864          0.0869              0.07017         0.1812   \n",
       "2           0.15990          0.1974              0.12790         0.2069   \n",
       "3           0.28390          0.2414              0.10520         0.2597   \n",
       "4           0.13280          0.1980              0.10430         0.1809   \n",
       "\n",
       "   mean fractal dimension  ...  worst texture  worst perimeter  worst area  \\\n",
       "0                 0.07871  ...          17.33           184.60      2019.0   \n",
       "1                 0.05667  ...          23.41           158.80      1956.0   \n",
       "2                 0.05999  ...          25.53           152.50      1709.0   \n",
       "3                 0.09744  ...          26.50            98.87       567.7   \n",
       "4                 0.05883  ...          16.67           152.20      1575.0   \n",
       "\n",
       "   worst smoothness  worst compactness  worst concavity  worst concave points  \\\n",
       "0            0.1622             0.6656           0.7119                0.2654   \n",
       "1            0.1238             0.1866           0.2416                0.1860   \n",
       "2            0.1444             0.4245           0.4504                0.2430   \n",
       "3            0.2098             0.8663           0.6869                0.2575   \n",
       "4            0.1374             0.2050           0.4000                0.1625   \n",
       "\n",
       "   worst symmetry  worst fractal dimension  benign_0__mal_1  \n",
       "0          0.4601                  0.11890                0  \n",
       "1          0.2750                  0.08902                0  \n",
       "2          0.3613                  0.08758                0  \n",
       "3          0.6638                  0.17300                0  \n",
       "4          0.2364                  0.07678                0  \n",
       "\n",
       "[5 rows x 31 columns]"
      ]
     },
     "execution_count": 22,
     "metadata": {},
     "output_type": "execute_result"
    }
   ],
   "source": [
    "df = pd.read_csv('cancer_classification.csv')\n",
    "df.head()"
   ]
  },
  {
   "cell_type": "code",
   "execution_count": 23,
   "metadata": {},
   "outputs": [
    {
     "name": "stdout",
     "output_type": "stream",
     "text": [
      "<class 'pandas.core.frame.DataFrame'>\n",
      "RangeIndex: 569 entries, 0 to 568\n",
      "Data columns (total 31 columns):\n",
      "mean radius                569 non-null float64\n",
      "mean texture               569 non-null float64\n",
      "mean perimeter             569 non-null float64\n",
      "mean area                  569 non-null float64\n",
      "mean smoothness            569 non-null float64\n",
      "mean compactness           569 non-null float64\n",
      "mean concavity             569 non-null float64\n",
      "mean concave points        569 non-null float64\n",
      "mean symmetry              569 non-null float64\n",
      "mean fractal dimension     569 non-null float64\n",
      "radius error               569 non-null float64\n",
      "texture error              569 non-null float64\n",
      "perimeter error            569 non-null float64\n",
      "area error                 569 non-null float64\n",
      "smoothness error           569 non-null float64\n",
      "compactness error          569 non-null float64\n",
      "concavity error            569 non-null float64\n",
      "concave points error       569 non-null float64\n",
      "symmetry error             569 non-null float64\n",
      "fractal dimension error    569 non-null float64\n",
      "worst radius               569 non-null float64\n",
      "worst texture              569 non-null float64\n",
      "worst perimeter            569 non-null float64\n",
      "worst area                 569 non-null float64\n",
      "worst smoothness           569 non-null float64\n",
      "worst compactness          569 non-null float64\n",
      "worst concavity            569 non-null float64\n",
      "worst concave points       569 non-null float64\n",
      "worst symmetry             569 non-null float64\n",
      "worst fractal dimension    569 non-null float64\n",
      "benign_0__mal_1            569 non-null int64\n",
      "dtypes: float64(30), int64(1)\n",
      "memory usage: 137.9 KB\n"
     ]
    }
   ],
   "source": [
    "df.info()"
   ]
  },
  {
   "cell_type": "code",
   "execution_count": 24,
   "metadata": {},
   "outputs": [
    {
     "data": {
      "text/plain": [
       "mean radius                0\n",
       "mean texture               0\n",
       "mean perimeter             0\n",
       "mean area                  0\n",
       "mean smoothness            0\n",
       "mean compactness           0\n",
       "mean concavity             0\n",
       "mean concave points        0\n",
       "mean symmetry              0\n",
       "mean fractal dimension     0\n",
       "radius error               0\n",
       "texture error              0\n",
       "perimeter error            0\n",
       "area error                 0\n",
       "smoothness error           0\n",
       "compactness error          0\n",
       "concavity error            0\n",
       "concave points error       0\n",
       "symmetry error             0\n",
       "fractal dimension error    0\n",
       "worst radius               0\n",
       "worst texture              0\n",
       "worst perimeter            0\n",
       "worst area                 0\n",
       "worst smoothness           0\n",
       "worst compactness          0\n",
       "worst concavity            0\n",
       "worst concave points       0\n",
       "worst symmetry             0\n",
       "worst fractal dimension    0\n",
       "benign_0__mal_1            0\n",
       "dtype: int64"
      ]
     },
     "execution_count": 24,
     "metadata": {},
     "output_type": "execute_result"
    }
   ],
   "source": [
    "df.isnull().sum()"
   ]
  },
  {
   "cell_type": "code",
   "execution_count": 25,
   "metadata": {},
   "outputs": [
    {
     "data": {
      "text/plain": [
       "<matplotlib.axes._subplots.AxesSubplot at 0x128fd396148>"
      ]
     },
     "execution_count": 25,
     "metadata": {},
     "output_type": "execute_result"
    },
    {
     "data": {
      "image/png": "[encoded data removed]",
      "text/plain": [
       "<Figure size 432x288 with 1 Axes>"
      ]
     },
     "metadata": {
      "needs_background": "light"
     },
     "output_type": "display_data"
    }
   ],
   "source": [
    "sns.countplot(x = 'benign_0__mal_1' , data = df)"
   ]
  },
  {
   "cell_type": "code",
   "execution_count": 26,
   "metadata": {},
   "outputs": [
    {
     "data": {
      "text/plain": [
       "1    357\n",
       "0    212\n",
       "Name: benign_0__mal_1, dtype: int64"
      ]
     },
     "execution_count": 26,
     "metadata": {},
     "output_type": "execute_result"
    }
   ],
   "source": [
    "df['benign_0__mal_1'].value_counts()"
   ]
  },
  {
   "cell_type": "code",
   "execution_count": 27,
   "metadata": {},
   "outputs": [],
   "source": [
    "X = df.drop('benign_0__mal_1',axis=1).values\n",
    "y = df['benign_0__mal_1'].values"
   ]
  },
  {
   "cell_type": "code",
   "execution_count": 28,
   "metadata": {},
   "outputs": [],
   "source": [
    "X_train, X_test, y_train, y_test = train_test_split(X , y , test_size = 0.25 , random_state = 101)"
   ]
  },
  {
   "cell_type": "code",
   "execution_count": 29,
   "metadata": {},
   "outputs": [
    {
     "data": {
      "text/plain": [
       "array([[1.236e+01, 1.854e+01, 7.901e+01, ..., 8.442e-02, 2.983e-01,\n",
       "        7.185e-02],\n",
       "       [1.404e+01, 1.598e+01, 8.978e+01, ..., 7.453e-02, 2.725e-01,\n",
       "        7.234e-02],\n",
       "       [1.291e+01, 1.633e+01, 8.253e+01, ..., 8.235e-02, 3.024e-01,\n",
       "        6.949e-02],\n",
       "       ...,\n",
       "       [1.760e+01, 2.333e+01, 1.190e+02, ..., 1.996e-01, 2.301e-01,\n",
       "        1.224e-01],\n",
       "       [1.162e+01, 1.818e+01, 7.638e+01, ..., 1.416e-01, 2.660e-01,\n",
       "        9.270e-02],\n",
       "       [1.550e+01, 2.108e+01, 1.029e+02, ..., 2.134e-01, 3.003e-01,\n",
       "        1.048e-01]])"
      ]
     },
     "execution_count": 29,
     "metadata": {},
     "output_type": "execute_result"
    }
   ],
   "source": [
    "X_test"
   ]
  },
  {
   "cell_type": "code",
   "execution_count": 30,
   "metadata": {},
   "outputs": [],
   "source": [
    "scaler = MinMaxScaler()"
   ]
  },
  {
   "cell_type": "code",
   "execution_count": 31,
   "metadata": {},
   "outputs": [
    {
     "data": {
      "text/plain": [
       "MinMaxScaler(copy=True, feature_range=(0, 1))"
      ]
     },
     "execution_count": 31,
     "metadata": {},
     "output_type": "execute_result"
    }
   ],
   "source": [
    "scaler.fit(X_train)"
   ]
  },
  {
   "cell_type": "code",
   "execution_count": 32,
   "metadata": {},
   "outputs": [],
   "source": [
    "X_train = scaler.transform(X_train)\n",
    "X_test = scaler.transform(X_test)"
   ]
  },
  {
   "cell_type": "code",
   "execution_count": 33,
   "metadata": {},
   "outputs": [],
   "source": [
    "early_stop = EarlyStopping(monitor = 'val_loss' , mode = 'min' , verbose = 1 , patience = 25)"
   ]
  },
  {
   "cell_type": "code",
   "execution_count": 34,
   "metadata": {},
   "outputs": [
    {
     "data": {
      "text/plain": [
       "<tensorflow.python.keras.callbacks.EarlyStopping at 0x128fd402588>"
      ]
     },
     "execution_count": 34,
     "metadata": {},
     "output_type": "execute_result"
    }
   ],
   "source": [
    "early_stop"
   ]
  },
  {
   "cell_type": "code",
   "execution_count": 35,
   "metadata": {},
   "outputs": [
    {
     "data": {
      "text/plain": [
       "'2020-04-14--2143'"
      ]
     },
     "execution_count": 35,
     "metadata": {},
     "output_type": "execute_result"
    }
   ],
   "source": [
    "datetime.now().strftime(\"%Y-%m-%d--%H%M\")"
   ]
  },
  {
   "cell_type": "code",
   "execution_count": 36,
   "metadata": {},
   "outputs": [
    {
     "data": {
      "text/plain": [
       "'C:\\\\Users\\\\Mahmudur Limon\\\\Downloads\\\\data\\\\Deep Learning\\\\ANN'"
      ]
     },
     "execution_count": 36,
     "metadata": {},
     "output_type": "execute_result"
    }
   ],
   "source": [
    "pwd"
   ]
  },
  {
   "cell_type": "code",
   "execution_count": 37,
   "metadata": {},
   "outputs": [],
   "source": [
    "log_directory = 'logs\\\\fit'\n",
    "\n",
    "board = TensorBoard(log_dir = log_directory , histogram_freq = 1,\n",
    "        write_graph = True,\n",
    "        write_images = True,\n",
    "        update_freq = 'epoch',\n",
    "        profile_batch = 2,\n",
    "        embeddings_freq = 1\n",
    "        )"
   ]
  },
  {
   "cell_type": "code",
   "execution_count": 38,
   "metadata": {},
   "outputs": [
    {
     "data": {
      "text/plain": [
       "'logs\\\\fit'"
      ]
     },
     "execution_count": 38,
     "metadata": {},
     "output_type": "execute_result"
    }
   ],
   "source": [
    "log_directory"
   ]
  },
  {
   "cell_type": "code",
   "execution_count": 39,
   "metadata": {},
   "outputs": [],
   "source": [
    "model = Sequential()\n",
    "model.add(Dense(units=30,activation='relu'))\n",
    "model.add(Dropout(0.5))\n",
    "model.add(Dense(units=15,activation='relu'))\n",
    "model.add(Dropout(0.5))\n",
    "model.add(Dense(units=1,activation='sigmoid'))\n",
    "model.compile(loss='binary_crossentropy', optimizer='adam')"
   ]
  },
  {
   "cell_type": "code",
   "execution_count": 40,
   "metadata": {},
   "outputs": [
    {
     "name": "stdout",
     "output_type": "stream",
     "text": [
      "Train on 426 samples, validate on 143 samples\n",
      "Epoch 1/600\n",
      "426/426 [==============================] - 2s 4ms/sample - loss: 0.7541 - val_loss: 0.7111\n",
      "Epoch 2/600\n",
      "426/426 [==============================] - 0s 467us/sample - loss: 0.7053 - val_loss: 0.6898\n",
      "Epoch 3/600\n",
      "426/426 [==============================] - 0s 443us/sample - loss: 0.6870 - val_loss: 0.6705\n",
      "Epoch 4/600\n",
      "426/426 [==============================] - 0s 496us/sample - loss: 0.6821 - val_loss: 0.6506\n",
      "Epoch 5/600\n",
      "426/426 [==============================] - 0s 445us/sample - loss: 0.6535 - val_loss: 0.6269\n",
      "Epoch 6/600\n",
      "426/426 [==============================] - 0s 480us/sample - loss: 0.6358 - val_loss: 0.6037\n",
      "Epoch 7/600\n",
      "426/426 [==============================] - 0s 400us/sample - loss: 0.6105 - val_loss: 0.5777\n",
      "Epoch 8/600\n",
      "426/426 [==============================] - 0s 593us/sample - loss: 0.5867 - val_loss: 0.5477\n",
      "Epoch 9/600\n",
      "426/426 [==============================] - 0s 415us/sample - loss: 0.5730 - val_loss: 0.5195\n",
      "Epoch 10/600\n",
      "426/426 [==============================] - 0s 433us/sample - loss: 0.5451 - val_loss: 0.4919\n",
      "Epoch 11/600\n",
      "426/426 [==============================] - 0s 496us/sample - loss: 0.5488 - val_loss: 0.4655\n",
      "Epoch 12/600\n",
      "426/426 [==============================] - 0s 451us/sample - loss: 0.5210 - val_loss: 0.4419\n",
      "Epoch 13/600\n",
      "426/426 [==============================] - 0s 424us/sample - loss: 0.4767 - val_loss: 0.4142\n",
      "Epoch 14/600\n",
      "426/426 [==============================] - 0s 442us/sample - loss: 0.4684 - val_loss: 0.3824\n",
      "Epoch 15/600\n",
      "426/426 [==============================] - 0s 468us/sample - loss: 0.4535 - val_loss: 0.3578\n",
      "Epoch 16/600\n",
      "426/426 [==============================] - 0s 487us/sample - loss: 0.4340 - val_loss: 0.3315\n",
      "Epoch 17/600\n",
      "426/426 [==============================] - 0s 482us/sample - loss: 0.4055 - val_loss: 0.3076\n",
      "Epoch 18/600\n",
      "426/426 [==============================] - 0s 432us/sample - loss: 0.3955 - val_loss: 0.2898\n",
      "Epoch 19/600\n",
      "426/426 [==============================] - 0s 480us/sample - loss: 0.3747 - val_loss: 0.2775\n",
      "Epoch 20/600\n",
      "426/426 [==============================] - 0s 489us/sample - loss: 0.3432 - val_loss: 0.2599\n",
      "Epoch 21/600\n",
      "426/426 [==============================] - 0s 590us/sample - loss: 0.3633 - val_loss: 0.2523\n",
      "Epoch 22/600\n",
      "426/426 [==============================] - 0s 812us/sample - loss: 0.3497 - val_loss: 0.2340\n",
      "Epoch 23/600\n",
      "426/426 [==============================] - 0s 644us/sample - loss: 0.3449 - val_loss: 0.2227\n",
      "Epoch 24/600\n",
      "426/426 [==============================] - 0s 545us/sample - loss: 0.3213 - val_loss: 0.2124\n",
      "Epoch 25/600\n",
      "426/426 [==============================] - 0s 462us/sample - loss: 0.3114 - val_loss: 0.2008\n",
      "Epoch 26/600\n",
      "426/426 [==============================] - 0s 560us/sample - loss: 0.3100 - val_loss: 0.1939\n",
      "Epoch 27/600\n",
      "426/426 [==============================] - 0s 599us/sample - loss: 0.2543 - val_loss: 0.1870\n",
      "Epoch 28/600\n",
      "426/426 [==============================] - 0s 490us/sample - loss: 0.2888 - val_loss: 0.1818\n",
      "Epoch 29/600\n",
      "426/426 [==============================] - 0s 446us/sample - loss: 0.2684 - val_loss: 0.1810\n",
      "Epoch 30/600\n",
      "426/426 [==============================] - 0s 447us/sample - loss: 0.2554 - val_loss: 0.1674\n",
      "Epoch 31/600\n",
      "426/426 [==============================] - 0s 487us/sample - loss: 0.2748 - val_loss: 0.1654\n",
      "Epoch 32/600\n",
      "426/426 [==============================] - 0s 454us/sample - loss: 0.2635 - val_loss: 0.1584\n",
      "Epoch 33/600\n",
      "426/426 [==============================] - 0s 475us/sample - loss: 0.2443 - val_loss: 0.1562\n",
      "Epoch 34/600\n",
      "426/426 [==============================] - 0s 471us/sample - loss: 0.2447 - val_loss: 0.1488\n",
      "Epoch 35/600\n",
      "426/426 [==============================] - 0s 480us/sample - loss: 0.2477 - val_loss: 0.1589\n",
      "Epoch 36/600\n",
      "426/426 [==============================] - 0s 470us/sample - loss: 0.2351 - val_loss: 0.1481\n",
      "Epoch 37/600\n",
      "426/426 [==============================] - 0s 424us/sample - loss: 0.2264 - val_loss: 0.1413\n",
      "Epoch 38/600\n",
      "426/426 [==============================] - 0s 602us/sample - loss: 0.2338 - val_loss: 0.1393\n",
      "Epoch 39/600\n",
      "426/426 [==============================] - 0s 513us/sample - loss: 0.2220 - val_loss: 0.1377\n",
      "Epoch 40/600\n",
      "426/426 [==============================] - 0s 483us/sample - loss: 0.2030 - val_loss: 0.1300\n",
      "Epoch 41/600\n",
      "426/426 [==============================] - 0s 481us/sample - loss: 0.2448 - val_loss: 0.1320\n",
      "Epoch 42/600\n",
      "426/426 [==============================] - 0s 581us/sample - loss: 0.2256 - val_loss: 0.1381\n",
      "Epoch 43/600\n",
      "426/426 [==============================] - 0s 567us/sample - loss: 0.2180 - val_loss: 0.1251\n",
      "Epoch 44/600\n",
      "426/426 [==============================] - 0s 605us/sample - loss: 0.2028 - val_loss: 0.1285\n",
      "Epoch 45/600\n",
      "426/426 [==============================] - 0s 506us/sample - loss: 0.2079 - val_loss: 0.1342\n",
      "Epoch 46/600\n",
      "426/426 [==============================] - 0s 526us/sample - loss: 0.1787 - val_loss: 0.1226\n",
      "Epoch 47/600\n",
      "426/426 [==============================] - 0s 520us/sample - loss: 0.1961 - val_loss: 0.1261\n",
      "Epoch 48/600\n",
      "426/426 [==============================] - 0s 587us/sample - loss: 0.1817 - val_loss: 0.1170\n",
      "Epoch 49/600\n",
      "426/426 [==============================] - 0s 524us/sample - loss: 0.2164 - val_loss: 0.1292\n",
      "Epoch 50/600\n",
      "426/426 [==============================] - 0s 488us/sample - loss: 0.2177 - val_loss: 0.1161\n",
      "Epoch 51/600\n",
      "426/426 [==============================] - 0s 581us/sample - loss: 0.1713 - val_loss: 0.1119\n",
      "Epoch 52/600\n",
      "426/426 [==============================] - 0s 499us/sample - loss: 0.1798 - val_loss: 0.1207\n",
      "Epoch 53/600\n",
      "426/426 [==============================] - 0s 535us/sample - loss: 0.1768 - val_loss: 0.1183\n",
      "Epoch 54/600\n",
      "426/426 [==============================] - 0s 672us/sample - loss: 0.1836 - val_loss: 0.1209\n",
      "Epoch 55/600\n",
      "426/426 [==============================] - 0s 551us/sample - loss: 0.2009 - val_loss: 0.1117\n",
      "Epoch 56/600\n",
      "426/426 [==============================] - 0s 573us/sample - loss: 0.2015 - val_loss: 0.1085\n",
      "Epoch 57/600\n",
      "426/426 [==============================] - 0s 709us/sample - loss: 0.1825 - val_loss: 0.1083\n",
      "Epoch 58/600\n",
      "426/426 [==============================] - 0s 503us/sample - loss: 0.1663 - val_loss: 0.1224\n",
      "Epoch 59/600\n",
      "426/426 [==============================] - 0s 564us/sample - loss: 0.1884 - val_loss: 0.1103\n",
      "Epoch 60/600\n",
      "426/426 [==============================] - 0s 540us/sample - loss: 0.1587 - val_loss: 0.1044\n",
      "Epoch 61/600\n",
      "426/426 [==============================] - 0s 490us/sample - loss: 0.1645 - val_loss: 0.1096\n",
      "Epoch 62/600\n",
      "426/426 [==============================] - 0s 485us/sample - loss: 0.1551 - val_loss: 0.1048\n",
      "Epoch 63/600\n",
      "426/426 [==============================] - 0s 506us/sample - loss: 0.1393 - val_loss: 0.1028\n",
      "Epoch 64/600\n",
      "426/426 [==============================] - 0s 599us/sample - loss: 0.1848 - val_loss: 0.1055\n",
      "Epoch 65/600\n",
      "426/426 [==============================] - 0s 522us/sample - loss: 0.1417 - val_loss: 0.1189\n",
      "Epoch 66/600\n",
      "426/426 [==============================] - 0s 493us/sample - loss: 0.1605 - val_loss: 0.1077\n",
      "Epoch 67/600\n",
      "426/426 [==============================] - 0s 522us/sample - loss: 0.1406 - val_loss: 0.1081\n",
      "Epoch 68/600\n",
      "426/426 [==============================] - 0s 503us/sample - loss: 0.1396 - val_loss: 0.1063\n",
      "Epoch 69/600\n",
      "426/426 [==============================] - 0s 609us/sample - loss: 0.1538 - val_loss: 0.1071\n",
      "Epoch 70/600\n",
      "426/426 [==============================] - 0s 522us/sample - loss: 0.1373 - val_loss: 0.1056\n",
      "Epoch 71/600\n",
      "426/426 [==============================] - 0s 527us/sample - loss: 0.1411 - val_loss: 0.1008\n",
      "Epoch 72/600\n",
      "426/426 [==============================] - 0s 574us/sample - loss: 0.1408 - val_loss: 0.1065\n",
      "Epoch 73/600\n",
      "426/426 [==============================] - 0s 614us/sample - loss: 0.1403 - val_loss: 0.1003\n",
      "Epoch 74/600\n",
      "426/426 [==============================] - 0s 489us/sample - loss: 0.1417 - val_loss: 0.1029\n",
      "Epoch 75/600\n",
      "426/426 [==============================] - 0s 498us/sample - loss: 0.1456 - val_loss: 0.1120\n",
      "Epoch 76/600\n",
      "426/426 [==============================] - 0s 685us/sample - loss: 0.1339 - val_loss: 0.0972\n",
      "Epoch 77/600\n",
      "426/426 [==============================] - 0s 515us/sample - loss: 0.1155 - val_loss: 0.0987\n"
     ]
    },
    {
     "name": "stdout",
     "output_type": "stream",
     "text": [
      "Epoch 78/600\n",
      "426/426 [==============================] - 0s 588us/sample - loss: 0.1337 - val_loss: 0.1085\n",
      "Epoch 79/600\n",
      "426/426 [==============================] - 0s 489us/sample - loss: 0.1664 - val_loss: 0.0897\n",
      "Epoch 80/600\n",
      "426/426 [==============================] - 0s 522us/sample - loss: 0.1291 - val_loss: 0.0969\n",
      "Epoch 81/600\n",
      "426/426 [==============================] - 0s 469us/sample - loss: 0.1423 - val_loss: 0.1049\n",
      "Epoch 82/600\n",
      "426/426 [==============================] - 0s 561us/sample - loss: 0.1452 - val_loss: 0.0961\n",
      "Epoch 83/600\n",
      "426/426 [==============================] - 0s 543us/sample - loss: 0.1525 - val_loss: 0.0957\n",
      "Epoch 84/600\n",
      "426/426 [==============================] - 0s 509us/sample - loss: 0.1293 - val_loss: 0.0987\n",
      "Epoch 85/600\n",
      "426/426 [==============================] - 0s 530us/sample - loss: 0.1185 - val_loss: 0.0952\n",
      "Epoch 86/600\n",
      "426/426 [==============================] - 0s 538us/sample - loss: 0.1255 - val_loss: 0.0999\n",
      "Epoch 87/600\n",
      "426/426 [==============================] - 0s 548us/sample - loss: 0.1326 - val_loss: 0.0968\n",
      "Epoch 88/600\n",
      "426/426 [==============================] - 0s 506us/sample - loss: 0.1459 - val_loss: 0.0988\n",
      "Epoch 89/600\n",
      "426/426 [==============================] - 0s 495us/sample - loss: 0.1201 - val_loss: 0.0933\n",
      "Epoch 90/600\n",
      "426/426 [==============================] - 0s 476us/sample - loss: 0.1245 - val_loss: 0.1005\n",
      "Epoch 91/600\n",
      "426/426 [==============================] - 0s 551us/sample - loss: 0.1261 - val_loss: 0.1000\n",
      "Epoch 92/600\n",
      "426/426 [==============================] - 0s 535us/sample - loss: 0.1140 - val_loss: 0.0972\n",
      "Epoch 93/600\n",
      "426/426 [==============================] - 0s 497us/sample - loss: 0.1249 - val_loss: 0.0941\n",
      "Epoch 94/600\n",
      "426/426 [==============================] - 0s 512us/sample - loss: 0.1267 - val_loss: 0.1002\n",
      "Epoch 95/600\n",
      "426/426 [==============================] - 0s 508us/sample - loss: 0.1407 - val_loss: 0.0934\n",
      "Epoch 96/600\n",
      "426/426 [==============================] - 0s 777us/sample - loss: 0.1078 - val_loss: 0.0918\n",
      "Epoch 97/600\n",
      "426/426 [==============================] - 0s 466us/sample - loss: 0.1351 - val_loss: 0.1002\n",
      "Epoch 98/600\n",
      "426/426 [==============================] - 0s 464us/sample - loss: 0.1106 - val_loss: 0.0966\n",
      "Epoch 99/600\n",
      "426/426 [==============================] - 0s 483us/sample - loss: 0.1320 - val_loss: 0.0990\n",
      "Epoch 100/600\n",
      "426/426 [==============================] - 0s 471us/sample - loss: 0.1357 - val_loss: 0.0904\n",
      "Epoch 101/600\n",
      "426/426 [==============================] - 0s 428us/sample - loss: 0.1081 - val_loss: 0.0935\n",
      "Epoch 102/600\n",
      "426/426 [==============================] - 0s 468us/sample - loss: 0.1126 - val_loss: 0.0918\n",
      "Epoch 103/600\n",
      "426/426 [==============================] - 0s 421us/sample - loss: 0.1161 - val_loss: 0.1059\n",
      "Epoch 104/600\n",
      "426/426 [==============================] - 0s 442us/sample - loss: 0.0927 - val_loss: 0.0939\n",
      "Epoch 00104: early stopping\n"
     ]
    },
    {
     "data": {
      "text/plain": [
       "<tensorflow.python.keras.callbacks.History at 0x128fd5b8108>"
      ]
     },
     "execution_count": 40,
     "metadata": {},
     "output_type": "execute_result"
    }
   ],
   "source": [
    "model.fit(x = X_train, \n",
    "          y = y_train, \n",
    "          epochs = 600,\n",
    "          validation_data=(X_test, y_test), verbose=1,\n",
    "          callbacks=[early_stop , board]\n",
    "          )"
   ]
  },
  {
   "cell_type": "code",
   "execution_count": 42,
   "metadata": {},
   "outputs": [
    {
     "name": "stdout",
     "output_type": "stream",
     "text": [
      "logs\\fit\n"
     ]
    }
   ],
   "source": [
    "print(log_directory)"
   ]
  }
 ],
 "metadata": {
  "kernelspec": {
   "display_name": "Python 3",
   "language": "python",
   "name": "python3"
  },
  "language_info": {
   "codemirror_mode": {
    "name": "ipython",
    "version": 3
   },
   "file_extension": ".py",
   "mimetype": "text/x-python",
   "name": "python",
   "nbconvert_exporter": "python",
   "pygments_lexer": "ipython3",
   "version": "3.7.4"
  }
 },
 "nbformat": 4,
 "nbformat_minor": 2
}
