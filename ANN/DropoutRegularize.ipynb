{
 "cells": [
  {
   "cell_type": "code",
   "execution_count": 1,
   "metadata": {},
   "outputs": [
    {
     "name": "stderr",
     "output_type": "stream",
     "text": [
      "Using TensorFlow backend.\n"
     ]
    }
   ],
   "source": [
    "# Importing the libraries\n",
    "import numpy as np\n",
    "import matplotlib.pyplot as plt\n",
    "import pandas as pd\n",
    "import tensorflow as tf\n",
    "from sklearn.preprocessing import LabelEncoder, OneHotEncoder\n",
    "from sklearn.model_selection import train_test_split , cross_val_score\n",
    "from sklearn.preprocessing import StandardScaler\n",
    "from sklearn.metrics import accuracy_score , confusion_matrix\n",
    "_CURRENT_SCRATCH_GRAPH = None\n",
    "\n",
    "import keras\n",
    "from keras.models import Sequential\n",
    "from keras.layers import Dense , Dropout\n",
    "from keras.wrappers.scikit_learn import KerasClassifier\n",
    "from sklearn.model_selection import GridSearchCV"
   ]
  },
  {
   "cell_type": "code",
   "execution_count": 2,
   "metadata": {},
   "outputs": [],
   "source": [
    "# Importing the dataset\n",
    "dataset = pd.read_csv('G:\\Software\\Machine learning\\Datasets\\Deep learning\\Churn_Modelling.csv')"
   ]
  },
  {
   "cell_type": "code",
   "execution_count": 3,
   "metadata": {},
   "outputs": [
    {
     "data": {
      "text/plain": [
       "RowNumber          0\n",
       "CustomerId         0\n",
       "Surname            0\n",
       "CreditScore        0\n",
       "Geography          0\n",
       "Gender             0\n",
       "Age                0\n",
       "Tenure             0\n",
       "Balance            0\n",
       "NumOfProducts      0\n",
       "HasCrCard          0\n",
       "IsActiveMember     0\n",
       "EstimatedSalary    0\n",
       "Exited             0\n",
       "dtype: int64"
      ]
     },
     "execution_count": 3,
     "metadata": {},
     "output_type": "execute_result"
    }
   ],
   "source": [
    "dataset.isnull().sum()"
   ]
  },
  {
   "cell_type": "code",
   "execution_count": 4,
   "metadata": {},
   "outputs": [],
   "source": [
    "#spliting the dataset\n",
    "x = dataset.iloc[:, 3:12].values\n",
    "y = dataset.iloc[:, 13].values"
   ]
  },
  {
   "cell_type": "code",
   "execution_count": 5,
   "metadata": {},
   "outputs": [
    {
     "data": {
      "text/plain": [
       "(10000, 9)"
      ]
     },
     "execution_count": 5,
     "metadata": {},
     "output_type": "execute_result"
    }
   ],
   "source": [
    "x.shape"
   ]
  },
  {
   "cell_type": "code",
   "execution_count": 6,
   "metadata": {},
   "outputs": [
    {
     "data": {
      "text/plain": [
       "(10000,)"
      ]
     },
     "execution_count": 6,
     "metadata": {},
     "output_type": "execute_result"
    }
   ],
   "source": [
    "y.shape"
   ]
  },
  {
   "cell_type": "markdown",
   "metadata": {},
   "source": [
    "## Encoding categorical data"
   ]
  },
  {
   "cell_type": "code",
   "execution_count": 7,
   "metadata": {},
   "outputs": [],
   "source": [
    "labelencoder_X = LabelEncoder()\n",
    "x[:, 1] = labelencoder_X.fit_transform(x[:, 1])"
   ]
  },
  {
   "cell_type": "code",
   "execution_count": 8,
   "metadata": {},
   "outputs": [
    {
     "data": {
      "text/plain": [
       "array([[619, 0, 'Female', ..., 1, 1, 1],\n",
       "       [608, 2, 'Female', ..., 1, 0, 1],\n",
       "       [502, 0, 'Female', ..., 3, 1, 0],\n",
       "       ...,\n",
       "       [709, 0, 'Female', ..., 1, 0, 1],\n",
       "       [772, 1, 'Male', ..., 2, 1, 0],\n",
       "       [792, 0, 'Female', ..., 1, 1, 0]], dtype=object)"
      ]
     },
     "execution_count": 8,
     "metadata": {},
     "output_type": "execute_result"
    }
   ],
   "source": [
    "x"
   ]
  },
  {
   "cell_type": "code",
   "execution_count": 9,
   "metadata": {},
   "outputs": [],
   "source": [
    "labelencoder_X_1 = LabelEncoder()\n",
    "x[:, 2] = labelencoder_X_1.fit_transform(x[:, 2])"
   ]
  },
  {
   "cell_type": "code",
   "execution_count": 10,
   "metadata": {},
   "outputs": [
    {
     "data": {
      "text/plain": [
       "array([[619, 0, 0, ..., 1, 1, 1],\n",
       "       [608, 2, 0, ..., 1, 0, 1],\n",
       "       [502, 0, 0, ..., 3, 1, 0],\n",
       "       ...,\n",
       "       [709, 0, 0, ..., 1, 0, 1],\n",
       "       [772, 1, 1, ..., 2, 1, 0],\n",
       "       [792, 0, 0, ..., 1, 1, 0]], dtype=object)"
      ]
     },
     "execution_count": 10,
     "metadata": {},
     "output_type": "execute_result"
    }
   ],
   "source": [
    "x"
   ]
  },
  {
   "cell_type": "code",
   "execution_count": 11,
   "metadata": {},
   "outputs": [
    {
     "name": "stderr",
     "output_type": "stream",
     "text": [
      "C:\\Users\\Mahmudur Limon\\Anaconda3\\lib\\site-packages\\sklearn\\preprocessing\\_encoders.py:415: FutureWarning: The handling of integer data will change in version 0.22. Currently, the categories are determined based on the range [0, max(values)], while in the future they will be determined based on the unique values.\n",
      "If you want the future behaviour and silence this warning, you can specify \"categories='auto'\".\n",
      "In case you used a LabelEncoder before this OneHotEncoder to convert the categories to integers, then you can now use the OneHotEncoder directly.\n",
      "  warnings.warn(msg, FutureWarning)\n",
      "C:\\Users\\Mahmudur Limon\\Anaconda3\\lib\\site-packages\\sklearn\\preprocessing\\_encoders.py:451: DeprecationWarning: The 'categorical_features' keyword is deprecated in version 0.20 and will be removed in 0.22. You can use the ColumnTransformer instead.\n",
      "  \"use the ColumnTransformer instead.\", DeprecationWarning)\n"
     ]
    }
   ],
   "source": [
    "onehotencoder = OneHotEncoder(categorical_features = [1])\n",
    "x = onehotencoder.fit_transform(x).toarray()"
   ]
  },
  {
   "cell_type": "code",
   "execution_count": 12,
   "metadata": {},
   "outputs": [
    {
     "data": {
      "text/plain": [
       "array([[1., 0., 0., ..., 1., 1., 1.],\n",
       "       [0., 0., 1., ..., 1., 0., 1.],\n",
       "       [1., 0., 0., ..., 3., 1., 0.],\n",
       "       ...,\n",
       "       [1., 0., 0., ..., 1., 0., 1.],\n",
       "       [0., 1., 0., ..., 2., 1., 0.],\n",
       "       [1., 0., 0., ..., 1., 1., 0.]])"
      ]
     },
     "execution_count": 12,
     "metadata": {},
     "output_type": "execute_result"
    }
   ],
   "source": [
    "x"
   ]
  },
  {
   "cell_type": "code",
   "execution_count": 13,
   "metadata": {},
   "outputs": [
    {
     "data": {
      "text/plain": [
       "array([[  0.,   0., 619., ...,   1.,   1.,   1.],\n",
       "       [  0.,   1., 608., ...,   1.,   0.,   1.],\n",
       "       [  0.,   0., 502., ...,   3.,   1.,   0.],\n",
       "       ...,\n",
       "       [  0.,   0., 709., ...,   1.,   0.,   1.],\n",
       "       [  1.,   0., 772., ...,   2.,   1.,   0.],\n",
       "       [  0.,   0., 792., ...,   1.,   1.,   0.]])"
      ]
     },
     "execution_count": 13,
     "metadata": {},
     "output_type": "execute_result"
    }
   ],
   "source": [
    "x[:,1:]"
   ]
  },
  {
   "cell_type": "code",
   "execution_count": 14,
   "metadata": {},
   "outputs": [],
   "source": [
    "# Splitting the dataset into the Training set and Test set\n",
    "X_train, X_test, y_train, y_test = train_test_split(x, y, test_size = 0.25, random_state = 0)"
   ]
  },
  {
   "cell_type": "code",
   "execution_count": 15,
   "metadata": {},
   "outputs": [
    {
     "data": {
      "text/plain": [
       "array([[0., 1., 0., ..., 3., 0., 0.],\n",
       "       [1., 0., 0., ..., 2., 1., 0.],\n",
       "       [0., 0., 1., ..., 2., 1., 1.],\n",
       "       ...,\n",
       "       [1., 0., 0., ..., 2., 1., 0.],\n",
       "       [0., 0., 1., ..., 2., 1., 1.],\n",
       "       [0., 1., 0., ..., 1., 1., 0.]])"
      ]
     },
     "execution_count": 15,
     "metadata": {},
     "output_type": "execute_result"
    }
   ],
   "source": [
    "X_train"
   ]
  },
  {
   "cell_type": "code",
   "execution_count": 16,
   "metadata": {},
   "outputs": [],
   "source": [
    "# Feature Scaling\n",
    "sc = StandardScaler()\n",
    "X_train = sc.fit_transform(X_train)\n",
    "X_test = sc.transform(X_test)"
   ]
  },
  {
   "cell_type": "code",
   "execution_count": 17,
   "metadata": {},
   "outputs": [
    {
     "data": {
      "text/plain": [
       "array([[-1.01558815,  1.76021608, -0.57468161, ..., -0.92655087,\n",
       "         0.64365658,  0.96668786],\n",
       "       [ 0.98465111, -0.56811207, -0.57468161, ..., -0.92655087,\n",
       "         0.64365658, -1.03446007],\n",
       "       [-1.01558815, -0.56811207,  1.74009395, ..., -0.92655087,\n",
       "         0.64365658,  0.96668786],\n",
       "       ...,\n",
       "       [ 0.98465111, -0.56811207, -0.57468161, ..., -0.92655087,\n",
       "         0.64365658, -1.03446007],\n",
       "       [-1.01558815,  1.76021608, -0.57468161, ...,  0.80424154,\n",
       "         0.64365658, -1.03446007],\n",
       "       [ 0.98465111, -0.56811207, -0.57468161, ..., -0.92655087,\n",
       "        -1.55362351, -1.03446007]])"
      ]
     },
     "execution_count": 17,
     "metadata": {},
     "output_type": "execute_result"
    }
   ],
   "source": [
    "X_test"
   ]
  },
  {
   "cell_type": "code",
   "execution_count": 18,
   "metadata": {},
   "outputs": [],
   "source": [
    "classifier = Sequential()"
   ]
  },
  {
   "cell_type": "code",
   "execution_count": 19,
   "metadata": {},
   "outputs": [
    {
     "name": "stderr",
     "output_type": "stream",
     "text": [
      "C:\\Users\\Mahmudur Limon\\Anaconda3\\lib\\site-packages\\ipykernel_launcher.py:2: UserWarning: Update your `Dense` call to the Keras 2 API: `Dense(activation=\"relu\", input_dim=11, units=6, kernel_initializer=\"uniform\")`\n",
      "  \n",
      "C:\\Users\\Mahmudur Limon\\Anaconda3\\lib\\site-packages\\ipykernel_launcher.py:3: UserWarning: Update your `Dropout` call to the Keras 2 API: `Dropout(rate=0.1)`\n",
      "  This is separate from the ipykernel package so we can avoid doing imports until\n"
     ]
    }
   ],
   "source": [
    "# input layer and first hidden layer with dropout\n",
    "classifier.add(Dense(output_dim = 6 , init = 'uniform' , activation = 'relu' , input_dim = 11))\n",
    "classifier.add(Dropout(p = 0.1))"
   ]
  },
  {
   "cell_type": "code",
   "execution_count": 20,
   "metadata": {},
   "outputs": [
    {
     "name": "stderr",
     "output_type": "stream",
     "text": [
      "C:\\Users\\Mahmudur Limon\\Anaconda3\\lib\\site-packages\\ipykernel_launcher.py:2: UserWarning: Update your `Dense` call to the Keras 2 API: `Dense(activation=\"relu\", input_dim=11, units=6, kernel_initializer=\"uniform\")`\n",
      "  \n",
      "C:\\Users\\Mahmudur Limon\\Anaconda3\\lib\\site-packages\\ipykernel_launcher.py:3: UserWarning: Update your `Dropout` call to the Keras 2 API: `Dropout(rate=0.1)`\n",
      "  This is separate from the ipykernel package so we can avoid doing imports until\n"
     ]
    }
   ],
   "source": [
    "# input layer and second hidden layer with dropout\n",
    "classifier.add(Dense(output_dim = 6 , init = 'uniform' , activation = 'relu' , input_dim = 11))\n",
    "classifier.add(Dropout(p = 0.1))"
   ]
  },
  {
   "cell_type": "code",
   "execution_count": 26,
   "metadata": {},
   "outputs": [],
   "source": [
    "# Create function for classifier\n",
    "\n",
    "def build_classifier(optimizer = 'adam'):\n",
    "    classifier = Sequential()\n",
    "    \n",
    "    classifier.add(Dense(units = 6, kernel_initializer = 'uniform', activation = 'relu', input_dim = 11))\n",
    "    classifier.add(Dense(units = 6, kernel_initializer = 'uniform', activation = 'relu'))\n",
    "    classifier.add(Dense(units = 1, kernel_initializer = 'uniform', activation = 'sigmoid'))\n",
    "    \n",
    "    classifier.compile(optimizer = 'adam', loss = 'binary_crossentropy', metrics = ['accuracy'])\n",
    "    \n",
    "    return classifier"
   ]
  },
  {
   "cell_type": "code",
   "execution_count": 27,
   "metadata": {},
   "outputs": [],
   "source": [
    "classifier = KerasClassifier(build_fn = build_classifier)"
   ]
  },
  {
   "cell_type": "code",
   "execution_count": 28,
   "metadata": {},
   "outputs": [],
   "source": [
    "parameters = {'batch_size': [25, 32],\n",
    "              'epochs': [100, 500],\n",
    "              'optimizer': ['adam' , 'rmsprop']}"
   ]
  },
  {
   "cell_type": "code",
   "execution_count": 29,
   "metadata": {},
   "outputs": [],
   "source": [
    "grid_search = GridSearchCV(estimator = classifier,\n",
    "                           param_grid = parameters,\n",
    "                           scoring = 'accuracy',\n",
    "                           cv = 10)"
   ]
  },
  {
   "cell_type": "code",
   "execution_count": null,
   "metadata": {},
   "outputs": [
    {
     "name": "stdout",
     "output_type": "stream",
     "text": [
      "Epoch 1/100\n",
      "6750/6750 [==============================] - 3s 404us/step - loss: 0.5694 - accuracy: 0.7963\n",
      "Epoch 2/100\n",
      "6750/6750 [==============================] - 2s 234us/step - loss: 0.4382 - accuracy: 0.7975\n",
      "Epoch 3/100\n",
      "6750/6750 [==============================] - 1s 220us/step - loss: 0.4312 - accuracy: 0.7975\n",
      "Epoch 4/100\n",
      "6750/6750 [==============================] - 2s 258us/step - loss: 0.4278 - accuracy: 0.7975\n",
      "Epoch 5/100\n",
      "6750/6750 [==============================] - 2s 269us/step - loss: 0.4253 - accuracy: 0.7975\n",
      "Epoch 6/100\n",
      "6750/6750 [==============================] - 2s 257us/step - loss: 0.4228 - accuracy: 0.7975\n",
      "Epoch 7/100\n",
      "6750/6750 [==============================] - 2s 239us/step - loss: 0.4205 - accuracy: 0.7975\n",
      "Epoch 8/100\n",
      "6750/6750 [==============================] - 2s 269us/step - loss: 0.4183 - accuracy: 0.8110\n",
      "Epoch 9/100\n",
      "6750/6750 [==============================] - 2s 270us/step - loss: 0.4173 - accuracy: 0.8219\n",
      "Epoch 10/100\n",
      "6750/6750 [==============================] - 2s 301us/step - loss: 0.4161 - accuracy: 0.8247\n",
      "Epoch 11/100\n",
      "6750/6750 [==============================] - 2s 262us/step - loss: 0.4151 - accuracy: 0.8246\n",
      "Epoch 12/100\n",
      "6750/6750 [==============================] - 2s 298us/step - loss: 0.4143 - accuracy: 0.8256\n",
      "Epoch 13/100\n",
      "6750/6750 [==============================] - 1s 220us/step - loss: 0.4135 - accuracy: 0.8280\n",
      "Epoch 14/100\n",
      "6750/6750 [==============================] - 2s 242us/step - loss: 0.4123 - accuracy: 0.8284\n",
      "Epoch 15/100\n",
      "6750/6750 [==============================] - 2s 298us/step - loss: 0.4115 - accuracy: 0.8295\n",
      "Epoch 16/100\n",
      "6750/6750 [==============================] - 2s 304us/step - loss: 0.4113 - accuracy: 0.8319\n",
      "Epoch 17/100\n",
      "6750/6750 [==============================] - 2s 268us/step - loss: 0.4107 - accuracy: 0.8319\n",
      "Epoch 18/100\n",
      "6750/6750 [==============================] - 2s 276us/step - loss: 0.4100 - accuracy: 0.8326\n",
      "Epoch 19/100\n",
      "6750/6750 [==============================] - 2s 304us/step - loss: 0.4095 - accuracy: 0.8323\n",
      "Epoch 20/100\n",
      "6750/6750 [==============================] - 2s 266us/step - loss: 0.4088 - accuracy: 0.8338\n",
      "Epoch 21/100\n",
      "6750/6750 [==============================] - 2s 254us/step - loss: 0.4081 - accuracy: 0.8327\n",
      "Epoch 22/100\n",
      "6750/6750 [==============================] - 2s 244us/step - loss: 0.4075 - accuracy: 0.8344\n",
      "Epoch 23/100\n",
      "6750/6750 [==============================] - 2s 276us/step - loss: 0.4073 - accuracy: 0.8341\n",
      "Epoch 24/100\n",
      "6750/6750 [==============================] - 2s 284us/step - loss: 0.4071 - accuracy: 0.8345\n",
      "Epoch 25/100\n",
      "6750/6750 [==============================] - 1s 221us/step - loss: 0.4065 - accuracy: 0.8350\n",
      "Epoch 26/100\n",
      "6750/6750 [==============================] - 1s 222us/step - loss: 0.4061 - accuracy: 0.8350\n",
      "Epoch 27/100\n",
      "6750/6750 [==============================] - 2s 225us/step - loss: 0.4058 - accuracy: 0.8351\n",
      "Epoch 28/100\n",
      "6750/6750 [==============================] - 1s 221us/step - loss: 0.4054 - accuracy: 0.8338\n",
      "Epoch 29/100\n",
      "6750/6750 [==============================] - 2s 224us/step - loss: 0.4053 - accuracy: 0.8356\n",
      "Epoch 30/100\n",
      "6750/6750 [==============================] - 2s 236us/step - loss: 0.4051 - accuracy: 0.8348\n",
      "Epoch 31/100\n",
      "6750/6750 [==============================] - 2s 233us/step - loss: 0.4047 - accuracy: 0.8350\n",
      "Epoch 32/100\n",
      "6750/6750 [==============================] - 1s 218us/step - loss: 0.4045 - accuracy: 0.8344\n",
      "Epoch 33/100\n",
      "6750/6750 [==============================] - 1s 217us/step - loss: 0.4042 - accuracy: 0.8339\n",
      "Epoch 34/100\n",
      "6750/6750 [==============================] - 1s 218us/step - loss: 0.4043 - accuracy: 0.8344\n",
      "Epoch 35/100\n",
      "6750/6750 [==============================] - 1s 217us/step - loss: 0.4038 - accuracy: 0.8350\n",
      "Epoch 36/100\n",
      "6750/6750 [==============================] - 1s 218us/step - loss: 0.4039 - accuracy: 0.8344\n",
      "Epoch 37/100\n",
      "6750/6750 [==============================] - 2s 243us/step - loss: 0.4035 - accuracy: 0.8341\n",
      "Epoch 38/100\n",
      "6750/6750 [==============================] - 2s 232us/step - loss: 0.4036 - accuracy: 0.8345\n",
      "Epoch 39/100\n",
      "6750/6750 [==============================] - 2s 244us/step - loss: 0.4035 - accuracy: 0.8353\n",
      "Epoch 40/100\n",
      "6750/6750 [==============================] - 1s 220us/step - loss: 0.4027 - accuracy: 0.8363\n",
      "Epoch 41/100\n",
      "6750/6750 [==============================] - 1s 220us/step - loss: 0.4030 - accuracy: 0.8354\n",
      "Epoch 42/100\n",
      "6750/6750 [==============================] - 1s 219us/step - loss: 0.4030 - accuracy: 0.8360\n",
      "Epoch 43/100\n",
      "6750/6750 [==============================] - 1s 221us/step - loss: 0.4027 - accuracy: 0.8359\n",
      "Epoch 44/100\n",
      "6750/6750 [==============================] - 2s 229us/step - loss: 0.4023 - accuracy: 0.8354\n",
      "Epoch 45/100\n",
      "6750/6750 [==============================] - 1s 218us/step - loss: 0.4026 - accuracy: 0.8359\n",
      "Epoch 46/100\n",
      "6750/6750 [==============================] - 1s 221us/step - loss: 0.4022 - accuracy: 0.8364\n",
      "Epoch 47/100\n",
      "6750/6750 [==============================] - 2s 245us/step - loss: 0.4025 - accuracy: 0.8357\n",
      "Epoch 48/100\n",
      "6750/6750 [==============================] - 3s 380us/step - loss: 0.4022 - accuracy: 0.8369\n",
      "Epoch 49/100\n",
      "6750/6750 [==============================] - 2s 330us/step - loss: 0.4020 - accuracy: 0.8348\n",
      "Epoch 50/100\n",
      "6750/6750 [==============================] - 2s 306us/step - loss: 0.4021 - accuracy: 0.8353\n",
      "Epoch 51/100\n",
      "6750/6750 [==============================] - 2s 294us/step - loss: 0.4018 - accuracy: 0.8354\n",
      "Epoch 52/100\n",
      "6750/6750 [==============================] - 2s 242us/step - loss: 0.4017 - accuracy: 0.8359\n",
      "Epoch 53/100\n",
      "6750/6750 [==============================] - 2s 251us/step - loss: 0.4017 - accuracy: 0.8351\n",
      "Epoch 54/100\n",
      "6750/6750 [==============================] - 2s 332us/step - loss: 0.4015 - accuracy: 0.8360\n",
      "Epoch 55/100\n",
      "6750/6750 [==============================] - 2s 279us/step - loss: 0.4014 - accuracy: 0.8364\n",
      "Epoch 56/100\n",
      "6750/6750 [==============================] - 2s 243us/step - loss: 0.4013 - accuracy: 0.8359\n",
      "Epoch 57/100\n",
      "6750/6750 [==============================] - 2s 273us/step - loss: 0.4014 - accuracy: 0.8359\n",
      "Epoch 58/100\n",
      "6750/6750 [==============================] - 1s 212us/step - loss: 0.4015 - accuracy: 0.8339\n",
      "Epoch 59/100\n",
      "6750/6750 [==============================] - 2s 237us/step - loss: 0.4013 - accuracy: 0.8357\n",
      "Epoch 60/100\n",
      "6750/6750 [==============================] - 2s 241us/step - loss: 0.4010 - accuracy: 0.8369\n",
      "Epoch 61/100\n",
      "6750/6750 [==============================] - 1s 220us/step - loss: 0.4013 - accuracy: 0.8363\n",
      "Epoch 62/100\n",
      "6750/6750 [==============================] - 2s 229us/step - loss: 0.4010 - accuracy: 0.8357\n",
      "Epoch 63/100\n",
      "6750/6750 [==============================] - 2s 230us/step - loss: 0.4009 - accuracy: 0.8366\n",
      "Epoch 64/100\n",
      "6750/6750 [==============================] - 1s 221us/step - loss: 0.4014 - accuracy: 0.8351\n",
      "Epoch 65/100\n",
      "6750/6750 [==============================] - 2s 236us/step - loss: 0.4007 - accuracy: 0.8369\n",
      "Epoch 66/100\n",
      "6750/6750 [==============================] - 2s 239us/step - loss: 0.4012 - accuracy: 0.8351\n",
      "Epoch 67/100\n",
      "6750/6750 [==============================] - 2s 238us/step - loss: 0.4008 - accuracy: 0.8367\n",
      "Epoch 68/100\n",
      "6750/6750 [==============================] - 2s 243us/step - loss: 0.4006 - accuracy: 0.8345\n",
      "Epoch 69/100\n",
      "6750/6750 [==============================] - 2s 224us/step - loss: 0.4007 - accuracy: 0.8357\n",
      "Epoch 70/100\n",
      "6750/6750 [==============================] - 2s 227us/step - loss: 0.4007 - accuracy: 0.8363\n",
      "Epoch 71/100\n",
      "6750/6750 [==============================] - 2s 246us/step - loss: 0.4005 - accuracy: 0.8359\n",
      "Epoch 72/100\n",
      "6750/6750 [==============================] - 2s 271us/step - loss: 0.4010 - accuracy: 0.8353\n",
      "Epoch 73/100\n",
      "6750/6750 [==============================] - 2s 226us/step - loss: 0.4007 - accuracy: 0.8360\n",
      "Epoch 74/100\n",
      "6750/6750 [==============================] - 1s 217us/step - loss: 0.4004 - accuracy: 0.8347\n",
      "Epoch 75/100\n",
      "6750/6750 [==============================] - 2s 283us/step - loss: 0.4003 - accuracy: 0.8342\n",
      "Epoch 76/100\n",
      "6750/6750 [==============================] - 2s 264us/step - loss: 0.4005 - accuracy: 0.8353\n",
      "Epoch 77/100\n",
      "6750/6750 [==============================] - 2s 304us/step - loss: 0.4003 - accuracy: 0.8350\n",
      "Epoch 78/100\n"
     ]
    },
    {
     "name": "stdout",
     "output_type": "stream",
     "text": [
      "6750/6750 [==============================] - 2s 312us/step - loss: 0.4005 - accuracy: 0.8372\n",
      "Epoch 79/100\n",
      "6750/6750 [==============================] - 2s 302us/step - loss: 0.4007 - accuracy: 0.8360\n",
      "Epoch 80/100\n",
      "6750/6750 [==============================] - 2s 233us/step - loss: 0.4004 - accuracy: 0.8361\n",
      "Epoch 81/100\n",
      "6750/6750 [==============================] - 1s 210us/step - loss: 0.4004 - accuracy: 0.8357\n",
      "Epoch 82/100\n",
      "6750/6750 [==============================] - 2s 330us/step - loss: 0.4001 - accuracy: 0.83500s - loss: 0.4038 - accuracy\n",
      "Epoch 83/100\n",
      "6750/6750 [==============================] - 2s 312us/step - loss: 0.4000 - accuracy: 0.8373\n",
      "Epoch 84/100\n",
      "6750/6750 [==============================] - 2s 264us/step - loss: 0.4002 - accuracy: 0.8345\n",
      "Epoch 85/100\n",
      "6750/6750 [==============================] - 3s 374us/step - loss: 0.3999 - accuracy: 0.8361\n",
      "Epoch 86/100\n",
      "6750/6750 [==============================] - 3s 400us/step - loss: 0.4002 - accuracy: 0.83630s - loss: 0.3995 - accuracy: 0.\n",
      "Epoch 87/100\n",
      "6750/6750 [==============================] - 2s 353us/step - loss: 0.4000 - accuracy: 0.8357\n",
      "Epoch 88/100\n",
      "6750/6750 [==============================] - 2s 322us/step - loss: 0.4002 - accuracy: 0.8364\n",
      "Epoch 89/100\n",
      "6750/6750 [==============================] - 3s 423us/step - loss: 0.4001 - accuracy: 0.8360\n",
      "Epoch 90/100\n",
      "6750/6750 [==============================] - 3s 383us/step - loss: 0.4000 - accuracy: 0.8353\n",
      "Epoch 91/100\n",
      "6750/6750 [==============================] - 2s 357us/step - loss: 0.4000 - accuracy: 0.8364\n",
      "Epoch 92/100\n",
      "6750/6750 [==============================] - 2s 353us/step - loss: 0.4001 - accuracy: 0.8351\n",
      "Epoch 93/100\n",
      "6750/6750 [==============================] - 2s 352us/step - loss: 0.3999 - accuracy: 0.8364\n",
      "Epoch 94/100\n",
      "6750/6750 [==============================] - 2s 306us/step - loss: 0.4000 - accuracy: 0.8364\n",
      "Epoch 95/100\n",
      "6750/6750 [==============================] - 2s 301us/step - loss: 0.3999 - accuracy: 0.8372\n",
      "Epoch 96/100\n",
      "6750/6750 [==============================] - 2s 365us/step - loss: 0.4000 - accuracy: 0.8360\n",
      "Epoch 97/100\n",
      "6750/6750 [==============================] - 2s 259us/step - loss: 0.4002 - accuracy: 0.8356\n",
      "Epoch 98/100\n",
      "6750/6750 [==============================] - 2s 233us/step - loss: 0.3998 - accuracy: 0.8359\n",
      "Epoch 99/100\n",
      "6750/6750 [==============================] - 1s 218us/step - loss: 0.3998 - accuracy: 0.8359\n",
      "Epoch 100/100\n",
      "6750/6750 [==============================] - 2s 223us/step - loss: 0.3999 - accuracy: 0.8360\n",
      "Epoch 1/100\n",
      "6750/6750 [==============================] - 2s 231us/step - loss: 0.5614 - accuracy: 0.7963\n",
      "Epoch 2/100\n",
      "6750/6750 [==============================] - 1s 208us/step - loss: 0.4366 - accuracy: 0.7970\n",
      "Epoch 3/100\n",
      "6750/6750 [==============================] - 1s 207us/step - loss: 0.4300 - accuracy: 0.7970\n",
      "Epoch 4/100\n",
      "6750/6750 [==============================] - 1s 207us/step - loss: 0.4269 - accuracy: 0.7970\n",
      "Epoch 5/100\n",
      "6750/6750 [==============================] - 2s 241us/step - loss: 0.4247 - accuracy: 0.7970\n",
      "Epoch 6/100\n",
      "6750/6750 [==============================] - 2s 295us/step - loss: 0.4226 - accuracy: 0.7970\n",
      "Epoch 7/100\n",
      "6750/6750 [==============================] - 2s 265us/step - loss: 0.4207 - accuracy: 0.8041\n",
      "Epoch 8/100\n",
      "6750/6750 [==============================] - 2s 236us/step - loss: 0.4189 - accuracy: 0.8181\n",
      "Epoch 9/100\n",
      "6750/6750 [==============================] - 1s 214us/step - loss: 0.4166 - accuracy: 0.8213\n",
      "Epoch 10/100\n",
      "6750/6750 [==============================] - 1s 211us/step - loss: 0.4153 - accuracy: 0.8240\n",
      "Epoch 11/100\n",
      "6750/6750 [==============================] - 1s 195us/step - loss: 0.4145 - accuracy: 0.8277\n",
      "Epoch 12/100\n",
      "6750/6750 [==============================] - 1s 210us/step - loss: 0.4132 - accuracy: 0.8280\n",
      "Epoch 13/100\n",
      "6750/6750 [==============================] - 1s 212us/step - loss: 0.4119 - accuracy: 0.8310\n",
      "Epoch 14/100\n",
      "6750/6750 [==============================] - 1s 192us/step - loss: 0.4109 - accuracy: 0.8302\n",
      "Epoch 15/100\n",
      "6750/6750 [==============================] - 1s 211us/step - loss: 0.4101 - accuracy: 0.8311\n",
      "Epoch 16/100\n",
      "6750/6750 [==============================] - 1s 192us/step - loss: 0.4094 - accuracy: 0.8324\n",
      "Epoch 17/100\n",
      "6750/6750 [==============================] - 1s 191us/step - loss: 0.4086 - accuracy: 0.8350\n",
      "Epoch 18/100\n",
      "6750/6750 [==============================] - 1s 191us/step - loss: 0.4080 - accuracy: 0.8336\n",
      "Epoch 19/100\n",
      "6750/6750 [==============================] - 1s 194us/step - loss: 0.4070 - accuracy: 0.8356\n",
      "Epoch 20/100\n",
      "6750/6750 [==============================] - 1s 191us/step - loss: 0.4066 - accuracy: 0.8360\n",
      "Epoch 21/100\n",
      "6750/6750 [==============================] - 1s 193us/step - loss: 0.4056 - accuracy: 0.8347\n",
      "Epoch 22/100\n",
      "6750/6750 [==============================] - 1s 192us/step - loss: 0.4057 - accuracy: 0.8361\n",
      "Epoch 23/100\n",
      "6750/6750 [==============================] - 1s 194us/step - loss: 0.4050 - accuracy: 0.8360\n",
      "Epoch 24/100\n",
      "6750/6750 [==============================] - 1s 191us/step - loss: 0.4050 - accuracy: 0.8359\n",
      "Epoch 25/100\n",
      "6750/6750 [==============================] - 1s 191us/step - loss: 0.4044 - accuracy: 0.8347\n",
      "Epoch 26/100\n",
      "6750/6750 [==============================] - 1s 191us/step - loss: 0.4040 - accuracy: 0.8356\n",
      "Epoch 27/100\n",
      "6750/6750 [==============================] - 1s 200us/step - loss: 0.4038 - accuracy: 0.8369\n",
      "Epoch 28/100\n",
      "6750/6750 [==============================] - 2s 257us/step - loss: 0.4034 - accuracy: 0.8350\n",
      "Epoch 29/100\n",
      "6750/6750 [==============================] - 2s 313us/step - loss: 0.4033 - accuracy: 0.8357\n",
      "Epoch 30/100\n",
      "6750/6750 [==============================] - 2s 296us/step - loss: 0.4026 - accuracy: 0.8381\n",
      "Epoch 31/100\n",
      "6750/6750 [==============================] - 2s 273us/step - loss: 0.4023 - accuracy: 0.8361\n",
      "Epoch 32/100\n",
      "6750/6750 [==============================] - 2s 267us/step - loss: 0.4021 - accuracy: 0.8357\n",
      "Epoch 33/100\n",
      "6750/6750 [==============================] - 2s 254us/step - loss: 0.4020 - accuracy: 0.8366\n",
      "Epoch 34/100\n",
      "6750/6750 [==============================] - 2s 239us/step - loss: 0.4016 - accuracy: 0.8367\n",
      "Epoch 35/100\n",
      "6750/6750 [==============================] - 2s 226us/step - loss: 0.4012 - accuracy: 0.8360\n",
      "Epoch 36/100\n",
      "6750/6750 [==============================] - 1s 222us/step - loss: 0.4009 - accuracy: 0.8363\n",
      "Epoch 37/100\n",
      "6750/6750 [==============================] - 1s 203us/step - loss: 0.4011 - accuracy: 0.8360\n",
      "Epoch 38/100\n",
      "6750/6750 [==============================] - 1s 218us/step - loss: 0.4007 - accuracy: 0.8359\n",
      "Epoch 39/100\n",
      "6750/6750 [==============================] - 1s 214us/step - loss: 0.4005 - accuracy: 0.8372\n",
      "Epoch 40/100\n",
      "6750/6750 [==============================] - 1s 215us/step - loss: 0.4002 - accuracy: 0.8357\n",
      "Epoch 41/100\n",
      "6750/6750 [==============================] - 2s 234us/step - loss: 0.3998 - accuracy: 0.8357\n",
      "Epoch 42/100\n",
      "6750/6750 [==============================] - 1s 219us/step - loss: 0.4003 - accuracy: 0.8354\n",
      "Epoch 43/100\n",
      "6750/6750 [==============================] - 1s 220us/step - loss: 0.3996 - accuracy: 0.8364\n",
      "Epoch 44/100\n",
      "6750/6750 [==============================] - 2s 255us/step - loss: 0.3998 - accuracy: 0.8366\n",
      "Epoch 45/100\n",
      "6750/6750 [==============================] - 2s 237us/step - loss: 0.3996 - accuracy: 0.8370\n",
      "Epoch 46/100\n",
      "6750/6750 [==============================] - 2s 272us/step - loss: 0.3995 - accuracy: 0.8347\n",
      "Epoch 47/100\n",
      "6750/6750 [==============================] - 2s 245us/step - loss: 0.3994 - accuracy: 0.8366\n",
      "Epoch 48/100\n",
      "6750/6750 [==============================] - 2s 260us/step - loss: 0.3996 - accuracy: 0.8360\n",
      "Epoch 49/100\n",
      "6750/6750 [==============================] - 2s 259us/step - loss: 0.3993 - accuracy: 0.8364\n",
      "Epoch 50/100\n",
      "6750/6750 [==============================] - 3s 489us/step - loss: 0.3988 - accuracy: 0.8370\n",
      "Epoch 51/100\n",
      "6750/6750 [==============================] - 2s 353us/step - loss: 0.3992 - accuracy: 0.8367\n",
      "Epoch 52/100\n",
      "6750/6750 [==============================] - 2s 365us/step - loss: 0.3988 - accuracy: 0.8356\n",
      "Epoch 53/100\n",
      "6750/6750 [==============================] - 2s 340us/step - loss: 0.3988 - accuracy: 0.8369\n",
      "Epoch 54/100\n"
     ]
    },
    {
     "name": "stdout",
     "output_type": "stream",
     "text": [
      "6750/6750 [==============================] - 2s 348us/step - loss: 0.3993 - accuracy: 0.8354\n",
      "Epoch 55/100\n",
      "6750/6750 [==============================] - 2s 334us/step - loss: 0.3986 - accuracy: 0.8364\n",
      "Epoch 56/100\n",
      "6750/6750 [==============================] - 2s 223us/step - loss: 0.3989 - accuracy: 0.8364\n",
      "Epoch 57/100\n",
      "6750/6750 [==============================] - 2s 255us/step - loss: 0.3981 - accuracy: 0.8353\n",
      "Epoch 58/100\n",
      "6750/6750 [==============================] - 2s 224us/step - loss: 0.3985 - accuracy: 0.8351\n",
      "Epoch 59/100\n",
      "6750/6750 [==============================] - 1s 216us/step - loss: 0.3979 - accuracy: 0.8354\n",
      "Epoch 60/100\n",
      "6750/6750 [==============================] - 2s 253us/step - loss: 0.3983 - accuracy: 0.8347\n",
      "Epoch 61/100\n",
      "6750/6750 [==============================] - 2s 224us/step - loss: 0.3984 - accuracy: 0.8367\n",
      "Epoch 62/100\n",
      "6750/6750 [==============================] - 2s 257us/step - loss: 0.3984 - accuracy: 0.8360\n",
      "Epoch 63/100\n",
      "6750/6750 [==============================] - 1s 216us/step - loss: 0.3981 - accuracy: 0.8359\n",
      "Epoch 64/100\n",
      "6750/6750 [==============================] - 1s 209us/step - loss: 0.3982 - accuracy: 0.8356\n",
      "Epoch 65/100\n",
      "6750/6750 [==============================] - 1s 198us/step - loss: 0.3983 - accuracy: 0.8341\n",
      "Epoch 66/100\n",
      "6750/6750 [==============================] - 1s 193us/step - loss: 0.3980 - accuracy: 0.8364\n",
      "Epoch 67/100\n",
      "6750/6750 [==============================] - 1s 207us/step - loss: 0.3980 - accuracy: 0.8369\n",
      "Epoch 68/100\n",
      "6750/6750 [==============================] - 1s 217us/step - loss: 0.3981 - accuracy: 0.8354\n",
      "Epoch 69/100\n",
      "6750/6750 [==============================] - 1s 207us/step - loss: 0.3977 - accuracy: 0.8354\n",
      "Epoch 70/100\n",
      "6750/6750 [==============================] - 1s 209us/step - loss: 0.3981 - accuracy: 0.8351\n",
      "Epoch 71/100\n",
      "6750/6750 [==============================] - 1s 209us/step - loss: 0.3979 - accuracy: 0.8364\n",
      "Epoch 72/100\n",
      "6750/6750 [==============================] - 1s 212us/step - loss: 0.3979 - accuracy: 0.8363\n",
      "Epoch 73/100\n",
      "6750/6750 [==============================] - 2s 242us/step - loss: 0.3976 - accuracy: 0.8360\n",
      "Epoch 74/100\n",
      "6750/6750 [==============================] - 1s 217us/step - loss: 0.3980 - accuracy: 0.8350\n",
      "Epoch 75/100\n",
      "6750/6750 [==============================] - 1s 211us/step - loss: 0.3978 - accuracy: 0.8366\n",
      "Epoch 76/100\n",
      "6750/6750 [==============================] - 2s 243us/step - loss: 0.3978 - accuracy: 0.8366\n",
      "Epoch 77/100\n",
      "6750/6750 [==============================] - 2s 360us/step - loss: 0.3976 - accuracy: 0.83450s - loss: 0.4\n",
      "Epoch 78/100\n",
      "6750/6750 [==============================] - 2s 332us/step - loss: 0.3977 - accuracy: 0.8370\n",
      "Epoch 79/100\n",
      "6750/6750 [==============================] - 3s 401us/step - loss: 0.3977 - accuracy: 0.8336\n",
      "Epoch 80/100\n",
      "6750/6750 [==============================] - 2s 245us/step - loss: 0.3977 - accuracy: 0.8354\n",
      "Epoch 81/100\n",
      "6750/6750 [==============================] - 2s 347us/step - loss: 0.3976 - accuracy: 0.8344\n",
      "Epoch 82/100\n",
      "6750/6750 [==============================] - 2s 288us/step - loss: 0.3976 - accuracy: 0.8356\n",
      "Epoch 83/100\n",
      "6750/6750 [==============================] - 2s 273us/step - loss: 0.3975 - accuracy: 0.8360\n",
      "Epoch 84/100\n",
      "6750/6750 [==============================] - 2s 304us/step - loss: 0.3979 - accuracy: 0.8369\n",
      "Epoch 85/100\n",
      "6750/6750 [==============================] - 2s 306us/step - loss: 0.3976 - accuracy: 0.8369\n",
      "Epoch 86/100\n",
      "6750/6750 [==============================] - 3s 419us/step - loss: 0.3976 - accuracy: 0.8347\n",
      "Epoch 87/100\n",
      "6750/6750 [==============================] - 3s 455us/step - loss: 0.3974 - accuracy: 0.8347\n",
      "Epoch 88/100\n",
      "6750/6750 [==============================] - 3s 382us/step - loss: 0.3972 - accuracy: 0.83500s - loss: 0.3979 - accura\n",
      "Epoch 89/100\n",
      "6750/6750 [==============================] - 3s 427us/step - loss: 0.3975 - accuracy: 0.8367\n",
      "Epoch 90/100\n",
      "6750/6750 [==============================] - 2s 288us/step - loss: 0.3973 - accuracy: 0.8354\n",
      "Epoch 91/100\n",
      "6750/6750 [==============================] - 2s 298us/step - loss: 0.3976 - accuracy: 0.8367\n",
      "Epoch 92/100\n",
      "6750/6750 [==============================] - 2s 278us/step - loss: 0.3973 - accuracy: 0.8360\n",
      "Epoch 93/100\n",
      "6750/6750 [==============================] - 2s 283us/step - loss: 0.3973 - accuracy: 0.8356\n",
      "Epoch 94/100\n",
      "6750/6750 [==============================] - 2s 279us/step - loss: 0.3974 - accuracy: 0.8359\n",
      "Epoch 95/100\n",
      "6750/6750 [==============================] - 2s 251us/step - loss: 0.3974 - accuracy: 0.8366\n",
      "Epoch 96/100\n",
      "6750/6750 [==============================] - 2s 240us/step - loss: 0.3973 - accuracy: 0.8351\n",
      "Epoch 97/100\n",
      "6750/6750 [==============================] - 2s 250us/step - loss: 0.3974 - accuracy: 0.8364\n",
      "Epoch 98/100\n",
      "6750/6750 [==============================] - 2s 258us/step - loss: 0.3977 - accuracy: 0.83720s - loss: 0.3993 - accuracy\n",
      "Epoch 99/100\n",
      "6750/6750 [==============================] - 2s 276us/step - loss: 0.3972 - accuracy: 0.8347\n",
      "Epoch 100/100\n",
      "6750/6750 [==============================] - 2s 237us/step - loss: 0.3973 - accuracy: 0.8366\n",
      "Epoch 1/100\n",
      "6750/6750 [==============================] - 2s 307us/step - loss: 0.5651 - accuracy: 0.7950\n",
      "Epoch 2/100\n",
      "6750/6750 [==============================] - 2s 300us/step - loss: 0.4384 - accuracy: 0.7957\n",
      "Epoch 3/100\n",
      "6750/6750 [==============================] - 2s 297us/step - loss: 0.4339 - accuracy: 0.7957\n",
      "Epoch 4/100\n",
      "6750/6750 [==============================] - 2s 244us/step - loss: 0.4318 - accuracy: 0.7957\n",
      "Epoch 5/100\n",
      "6750/6750 [==============================] - 3s 374us/step - loss: 0.4301 - accuracy: 0.7957\n",
      "Epoch 6/100\n",
      "6750/6750 [==============================] - 2s 290us/step - loss: 0.4284 - accuracy: 0.7957\n",
      "Epoch 7/100\n",
      "6750/6750 [==============================] - 2s 304us/step - loss: 0.4263 - accuracy: 0.7957\n",
      "Epoch 8/100\n",
      "6750/6750 [==============================] - 2s 323us/step - loss: 0.4238 - accuracy: 0.7997\n",
      "Epoch 9/100\n",
      "6750/6750 [==============================] - 2s 269us/step - loss: 0.4216 - accuracy: 0.8170\n",
      "Epoch 10/100\n",
      "6750/6750 [==============================] - 2s 271us/step - loss: 0.4197 - accuracy: 0.8203\n",
      "Epoch 11/100\n",
      "6750/6750 [==============================] - 2s 284us/step - loss: 0.4186 - accuracy: 0.8227\n",
      "Epoch 12/100\n",
      "6750/6750 [==============================] - 2s 289us/step - loss: 0.4173 - accuracy: 0.8244\n",
      "Epoch 13/100\n",
      "6750/6750 [==============================] - 2s 292us/step - loss: 0.4162 - accuracy: 0.8271\n",
      "Epoch 14/100\n",
      "6750/6750 [==============================] - 2s 238us/step - loss: 0.4157 - accuracy: 0.8264\n",
      "Epoch 15/100\n",
      "6750/6750 [==============================] - ETA: 0s - loss: 0.4155 - accuracy: 0.82 - 2s 249us/step - loss: 0.4147 - accuracy: 0.8289\n",
      "Epoch 16/100\n",
      "6750/6750 [==============================] - 2s 257us/step - loss: 0.4141 - accuracy: 0.8286\n",
      "Epoch 17/100\n",
      "6750/6750 [==============================] - 2s 273us/step - loss: 0.4135 - accuracy: 0.8296\n",
      "Epoch 18/100\n",
      "6750/6750 [==============================] - 2s 283us/step - loss: 0.4129 - accuracy: 0.8305\n",
      "Epoch 19/100\n",
      "6750/6750 [==============================] - 2s 348us/step - loss: 0.4125 - accuracy: 0.8321\n",
      "Epoch 20/100\n",
      "6750/6750 [==============================] - 1s 221us/step - loss: 0.4121 - accuracy: 0.8311\n",
      "Epoch 21/100\n",
      "6750/6750 [==============================] - 2s 281us/step - loss: 0.4113 - accuracy: 0.8310\n",
      "Epoch 22/100\n",
      "6750/6750 [==============================] - 2s 252us/step - loss: 0.4110 - accuracy: 0.8316\n",
      "Epoch 23/100\n",
      "6750/6750 [==============================] - 2s 281us/step - loss: 0.4109 - accuracy: 0.8323\n",
      "Epoch 24/100\n",
      "6750/6750 [==============================] - 2s 294us/step - loss: 0.4102 - accuracy: 0.8333\n",
      "Epoch 25/100\n",
      "6750/6750 [==============================] - 2s 318us/step - loss: 0.4098 - accuracy: 0.8324\n",
      "Epoch 26/100\n",
      "6750/6750 [==============================] - 2s 362us/step - loss: 0.4096 - accuracy: 0.8341\n",
      "Epoch 27/100\n",
      "6750/6750 [==============================] - 3s 407us/step - loss: 0.4090 - accuracy: 0.8336\n",
      "Epoch 28/100\n",
      "6750/6750 [==============================] - 2s 357us/step - loss: 0.4090 - accuracy: 0.83410s\n",
      "Epoch 29/100\n",
      "6750/6750 [==============================] - 2s 330us/step - loss: 0.4083 - accuracy: 0.8347\n",
      "Epoch 30/100\n"
     ]
    },
    {
     "name": "stdout",
     "output_type": "stream",
     "text": [
      "6750/6750 [==============================] - 3s 375us/step - loss: 0.4079 - accuracy: 0.8354\n",
      "Epoch 31/100\n",
      "6750/6750 [==============================] - 2s 367us/step - loss: 0.4077 - accuracy: 0.8335\n",
      "Epoch 32/100\n",
      "6750/6750 [==============================] - 2s 311us/step - loss: 0.4077 - accuracy: 0.8330\n",
      "Epoch 33/100\n",
      "6750/6750 [==============================] - 2s 296us/step - loss: 0.4073 - accuracy: 0.8338\n",
      "Epoch 34/100\n",
      "6750/6750 [==============================] - 2s 280us/step - loss: 0.4067 - accuracy: 0.8335\n",
      "Epoch 35/100\n",
      "6750/6750 [==============================] - 2s 286us/step - loss: 0.4065 - accuracy: 0.8345\n",
      "Epoch 36/100\n",
      "6225/6750 [==========================>...] - ETA: 0s - loss: 0.4057 - accuracy: 0.8342"
     ]
    }
   ],
   "source": [
    "grid_search = grid_search.fit(X_train, y_train)\n",
    "best_parameters = grid_search.best_params_\n",
    "best_accuracy = grid_search.best_score_"
   ]
  },
  {
   "cell_type": "code",
   "execution_count": null,
   "metadata": {},
   "outputs": [],
   "source": []
  }
 ],
 "metadata": {
  "kernelspec": {
   "display_name": "Python 3",
   "language": "python",
   "name": "python3"
  },
  "language_info": {
   "codemirror_mode": {
    "name": "ipython",
    "version": 3
   },
   "file_extension": ".py",
   "mimetype": "text/x-python",
   "name": "python",
   "nbconvert_exporter": "python",
   "pygments_lexer": "ipython3",
   "version": "3.7.4"
  }
 },
 "nbformat": 4,
 "nbformat_minor": 2
}
