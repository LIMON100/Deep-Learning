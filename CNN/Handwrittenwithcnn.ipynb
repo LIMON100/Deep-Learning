{
 "cells": [
  {
   "cell_type": "code",
   "execution_count": 1,
   "metadata": {},
   "outputs": [
    {
     "name": "stderr",
     "output_type": "stream",
     "text": [
      "Using TensorFlow backend.\n"
     ]
    }
   ],
   "source": [
    "from keras.datasets import mnist\n",
    "from keras.models import Sequential\n",
    "from keras.layers import Dense, Dropout, Activation, Flatten\n",
    "from keras.layers.normalization import BatchNormalization\n",
    "from keras.utils import np_utils\n",
    "from keras.layers import Conv2D, MaxPooling2D\n",
    "from keras.preprocessing.image import ImageDataGenerator\n",
    "import pandas as pd"
   ]
  },
  {
   "cell_type": "code",
   "execution_count": 2,
   "metadata": {},
   "outputs": [],
   "source": [
    "(X_train, y_train), (X_test, y_test) = mnist.load_data()"
   ]
  },
  {
   "cell_type": "code",
   "execution_count": 3,
   "metadata": {},
   "outputs": [
    {
     "name": "stdout",
     "output_type": "stream",
     "text": [
      "X_train original shape (60000, 28, 28)\n",
      "y_train original shape (60000,)\n",
      "X_test original shape (10000, 28, 28)\n",
      "y_test original shape (10000,)\n"
     ]
    }
   ],
   "source": [
    "print(\"X_train original shape\", X_train.shape)\n",
    "print(\"y_train original shape\", y_train.shape)\n",
    "print(\"X_test original shape\", X_test.shape)\n",
    "print(\"y_test original shape\", y_test.shape)"
   ]
  },
  {
   "cell_type": "code",
   "execution_count": 4,
   "metadata": {},
   "outputs": [
    {
     "data": {
      "text/plain": [
       "array([[[0, 0, 0, ..., 0, 0, 0],\n",
       "        [0, 0, 0, ..., 0, 0, 0],\n",
       "        [0, 0, 0, ..., 0, 0, 0],\n",
       "        ...,\n",
       "        [0, 0, 0, ..., 0, 0, 0],\n",
       "        [0, 0, 0, ..., 0, 0, 0],\n",
       "        [0, 0, 0, ..., 0, 0, 0]],\n",
       "\n",
       "       [[0, 0, 0, ..., 0, 0, 0],\n",
       "        [0, 0, 0, ..., 0, 0, 0],\n",
       "        [0, 0, 0, ..., 0, 0, 0],\n",
       "        ...,\n",
       "        [0, 0, 0, ..., 0, 0, 0],\n",
       "        [0, 0, 0, ..., 0, 0, 0],\n",
       "        [0, 0, 0, ..., 0, 0, 0]],\n",
       "\n",
       "       [[0, 0, 0, ..., 0, 0, 0],\n",
       "        [0, 0, 0, ..., 0, 0, 0],\n",
       "        [0, 0, 0, ..., 0, 0, 0],\n",
       "        ...,\n",
       "        [0, 0, 0, ..., 0, 0, 0],\n",
       "        [0, 0, 0, ..., 0, 0, 0],\n",
       "        [0, 0, 0, ..., 0, 0, 0]],\n",
       "\n",
       "       ...,\n",
       "\n",
       "       [[0, 0, 0, ..., 0, 0, 0],\n",
       "        [0, 0, 0, ..., 0, 0, 0],\n",
       "        [0, 0, 0, ..., 0, 0, 0],\n",
       "        ...,\n",
       "        [0, 0, 0, ..., 0, 0, 0],\n",
       "        [0, 0, 0, ..., 0, 0, 0],\n",
       "        [0, 0, 0, ..., 0, 0, 0]],\n",
       "\n",
       "       [[0, 0, 0, ..., 0, 0, 0],\n",
       "        [0, 0, 0, ..., 0, 0, 0],\n",
       "        [0, 0, 0, ..., 0, 0, 0],\n",
       "        ...,\n",
       "        [0, 0, 0, ..., 0, 0, 0],\n",
       "        [0, 0, 0, ..., 0, 0, 0],\n",
       "        [0, 0, 0, ..., 0, 0, 0]],\n",
       "\n",
       "       [[0, 0, 0, ..., 0, 0, 0],\n",
       "        [0, 0, 0, ..., 0, 0, 0],\n",
       "        [0, 0, 0, ..., 0, 0, 0],\n",
       "        ...,\n",
       "        [0, 0, 0, ..., 0, 0, 0],\n",
       "        [0, 0, 0, ..., 0, 0, 0],\n",
       "        [0, 0, 0, ..., 0, 0, 0]]], dtype=uint8)"
      ]
     },
     "execution_count": 4,
     "metadata": {},
     "output_type": "execute_result"
    }
   ],
   "source": [
    "X_train"
   ]
  },
  {
   "cell_type": "code",
   "execution_count": 5,
   "metadata": {},
   "outputs": [],
   "source": [
    "dataset = pd.read_csv('G:/Software/Machine learning/1/23. Dimension Reduction/PCA Dataset/test.csv')"
   ]
  },
  {
   "cell_type": "code",
   "execution_count": 6,
   "metadata": {},
   "outputs": [],
   "source": [
    "features_train = X_train.reshape(X_train.shape[0], 28, 28, 1)\n",
    "features_test = X_test.reshape(X_test.shape[0], 28, 28, 1)\n",
    "\n",
    "Test = dataset.values.reshape(dataset.shape[0] , 28 , 28 , 1)"
   ]
  },
  {
   "cell_type": "code",
   "execution_count": 7,
   "metadata": {},
   "outputs": [],
   "source": [
    "features_train = features_train.astype('float32')\n",
    "features_test = features_test.astype('float32')\n",
    "Test = Test.astype('float32')"
   ]
  },
  {
   "cell_type": "code",
   "execution_count": 8,
   "metadata": {},
   "outputs": [],
   "source": [
    "features_train/=255\n",
    "features_test/=255\n",
    "Test=Test/255"
   ]
  },
  {
   "cell_type": "code",
   "execution_count": 9,
   "metadata": {},
   "outputs": [],
   "source": [
    "targets_train = np_utils.to_categorical(y_train, 10)\n",
    "targets_test = np_utils.to_categorical(y_test, 10)"
   ]
  },
  {
   "cell_type": "code",
   "execution_count": 10,
   "metadata": {},
   "outputs": [],
   "source": [
    "model = Sequential()"
   ]
  },
  {
   "cell_type": "code",
   "execution_count": 11,
   "metadata": {},
   "outputs": [],
   "source": [
    "model.add(Conv2D(32, (3, 3), input_shape=(28,28,1)))\n",
    "model.add(Activation('relu'))"
   ]
  },
  {
   "cell_type": "code",
   "execution_count": 12,
   "metadata": {},
   "outputs": [],
   "source": [
    "model.add(BatchNormalization())\n",
    "model.add(Conv2D(32, (3, 3)))\n",
    "model.add(Activation('relu'))\n",
    "model.add(MaxPooling2D(pool_size=(2,2)))\n",
    "\n",
    "model.add(BatchNormalization())\n",
    "model.add(Conv2D(64,(3, 3)))\n",
    "model.add(Activation('relu'))\n",
    "\n",
    "model.add(BatchNormalization())\n",
    "model.add(Conv2D(64, (3, 3)))\n",
    "model.add(Activation('relu'))\n",
    "\n",
    "model.add(MaxPooling2D(pool_size=(2,2)))\n",
    "model.add(Flatten())"
   ]
  },
  {
   "cell_type": "code",
   "execution_count": 13,
   "metadata": {},
   "outputs": [],
   "source": [
    "model.add(BatchNormalization())\n",
    "model.add(Dense(512))\n",
    "model.add(Activation('relu'))\n",
    "model.add(BatchNormalization())\n",
    "\n",
    "model.add(Dropout(0.3))\n",
    "model.add(Dense(10,activation=\"softmax\"))"
   ]
  },
  {
   "cell_type": "code",
   "execution_count": 14,
   "metadata": {},
   "outputs": [],
   "source": [
    "model.compile(loss='categorical_crossentropy', optimizer=\"adam\", metrics=['accuracy'])"
   ]
  },
  {
   "cell_type": "code",
   "execution_count": 15,
   "metadata": {},
   "outputs": [
    {
     "name": "stdout",
     "output_type": "stream",
     "text": [
      "Epoch 1/15\n",
      "60000/60000 [==============================] - 87s 1ms/step - loss: 0.0967 - accuracy: 0.9711\n",
      "Epoch 2/15\n",
      "60000/60000 [==============================] - 84s 1ms/step - loss: 0.0371 - accuracy: 0.9884\n",
      "Epoch 3/15\n",
      "60000/60000 [==============================] - 85s 1ms/step - loss: 0.0244 - accuracy: 0.9921\n",
      "Epoch 4/15\n",
      "60000/60000 [==============================] - 84s 1ms/step - loss: 0.0209 - accuracy: 0.9932\n",
      "Epoch 5/15\n",
      "60000/60000 [==============================] - 85s 1ms/step - loss: 0.0178 - accuracy: 0.9940\n",
      "Epoch 6/15\n",
      "60000/60000 [==============================] - 83s 1ms/step - loss: 0.0159 - accuracy: 0.9947\n",
      "Epoch 7/15\n",
      "60000/60000 [==============================] - 83s 1ms/step - loss: 0.0135 - accuracy: 0.9956\n",
      "Epoch 8/15\n",
      "60000/60000 [==============================] - 83s 1ms/step - loss: 0.0114 - accuracy: 0.9962\n",
      "Epoch 9/15\n",
      "60000/60000 [==============================] - 82s 1ms/step - loss: 0.0142 - accuracy: 0.9950\n",
      "Epoch 10/15\n",
      "60000/60000 [==============================] - 82s 1ms/step - loss: 0.0105 - accuracy: 0.9964\n",
      "Epoch 11/15\n",
      "60000/60000 [==============================] - 82s 1ms/step - loss: 0.0098 - accuracy: 0.9966\n",
      "Epoch 12/15\n",
      "60000/60000 [==============================] - 89s 1ms/step - loss: 0.0097 - accuracy: 0.9968\n",
      "Epoch 13/15\n",
      "60000/60000 [==============================] - 102s 2ms/step - loss: 0.0066 - accuracy: 0.9977\n",
      "Epoch 15/15\n",
      "60000/60000 [==============================] - 103s 2ms/step - loss: 0.0074 - accuracy: 0.9973\n"
     ]
    },
    {
     "data": {
      "text/plain": [
       "<keras.callbacks.callbacks.History at 0x288a1f71348>"
      ]
     },
     "execution_count": 15,
     "metadata": {},
     "output_type": "execute_result"
    }
   ],
   "source": [
    "model.fit(features_train ,  targets_train , batch_size = 100 , epochs = 15)"
   ]
  },
  {
   "cell_type": "code",
   "execution_count": 16,
   "metadata": {},
   "outputs": [
    {
     "name": "stdout",
     "output_type": "stream",
     "text": [
      "Test loss: 0.029840003299219205\n",
      "Test accuracy: 0.9929999709129333\n"
     ]
    }
   ],
   "source": [
    "score = model.evaluate(features_test , targets_test, verbose=0)\n",
    "print('Test loss:', score[0])\n",
    "print('Test accuracy:', score[1])"
   ]
  },
  {
   "cell_type": "code",
   "execution_count": 40,
   "metadata": {},
   "outputs": [],
   "source": [
    "train_generator = ImageDataGenerator(rotation_range=7, width_shift_range=0.05, shear_range=0.2,\n",
    "                         height_shift_range=0.07, zoom_range=0.05)"
   ]
  },
  {
   "cell_type": "code",
   "execution_count": 42,
   "metadata": {},
   "outputs": [],
   "source": [
    "test_genrator = ImageDataGenerator()"
   ]
  },
  {
   "cell_type": "code",
   "execution_count": 43,
   "metadata": {},
   "outputs": [],
   "source": [
    "train_generator = train_generator.flow(features_train, targets_train, batch_size=64)\n",
    "test_generator = test_genrator.flow(features_test, targets_test, batch_size=64)"
   ]
  },
  {
   "cell_type": "code",
   "execution_count": 44,
   "metadata": {},
   "outputs": [
    {
     "name": "stdout",
     "output_type": "stream",
     "text": [
      "Epoch 1/5\n",
      "937/937 [==============================] - 98s 105ms/step - loss: 0.0579 - accuracy: 0.9837 - val_loss: 0.0432 - val_accuracy: 0.9913\n",
      "Epoch 2/5\n",
      "937/937 [==============================] - 95s 102ms/step - loss: 0.0305 - accuracy: 0.9909 - val_loss: 0.0077 - val_accuracy: 0.9908\n",
      "Epoch 3/5\n",
      "937/937 [==============================] - 95s 102ms/step - loss: 0.0241 - accuracy: 0.9927 - val_loss: 0.0393 - val_accuracy: 0.9930\n",
      "Epoch 5/5\n",
      "937/937 [==============================] - 95s 101ms/step - loss: 0.0238 - accuracy: 0.9924 - val_loss: 4.9803e-04 - val_accuracy: 0.9937\n"
     ]
    },
    {
     "data": {
      "text/plain": [
       "<keras.callbacks.callbacks.History at 0x28952098088>"
      ]
     },
     "execution_count": 44,
     "metadata": {},
     "output_type": "execute_result"
    }
   ],
   "source": [
    "model.fit_generator(train_generator, steps_per_epoch=60000//64, epochs=5, \n",
    "                    validation_data=test_generator, validation_steps=10000//64)"
   ]
  },
  {
   "cell_type": "markdown",
   "metadata": {},
   "source": [
    "### Testing Part"
   ]
  },
  {
   "cell_type": "code",
   "execution_count": 29,
   "metadata": {},
   "outputs": [],
   "source": [
    "sb = pd.read_csv('G:/Software/Machine learning/Datasets/MNist/sample_submission.csv')"
   ]
  },
  {
   "cell_type": "code",
   "execution_count": 49,
   "metadata": {},
   "outputs": [
    {
     "data": {
      "text/plain": [
       "array([[4.5866846e-10, 1.2334074e-09, 9.9999976e-01, ..., 1.2016514e-07,\n",
       "        1.8321649e-09, 8.5585601e-12],\n",
       "       [9.9999988e-01, 5.0297589e-14, 1.3669973e-07, ..., 1.2423933e-10,\n",
       "        3.5656866e-11, 8.6041368e-10],\n",
       "       [1.8846309e-09, 2.3680684e-08, 4.4641474e-06, ..., 9.8487703e-08,\n",
       "        1.4137618e-06, 9.9998569e-01],\n",
       "       ...,\n",
       "       [9.2210321e-19, 2.0997894e-14, 7.0570333e-16, ..., 1.1013973e-13,\n",
       "        2.8964302e-14, 2.5583455e-13],\n",
       "       [1.6435651e-08, 9.9707602e-09, 6.4934034e-07, ..., 3.4755906e-06,\n",
       "        9.3564321e-09, 9.9998844e-01],\n",
       "       [9.0821751e-12, 6.6930090e-12, 1.0000000e+00, ..., 2.2395952e-08,\n",
       "        8.2294456e-09, 4.3684330e-13]], dtype=float32)"
      ]
     },
     "execution_count": 49,
     "metadata": {},
     "output_type": "execute_result"
    }
   ],
   "source": [
    "test_predict = model.predict(Test)\n",
    "test_predict"
   ]
  },
  {
   "cell_type": "code",
   "execution_count": 50,
   "metadata": {},
   "outputs": [],
   "source": [
    "sb['Label'] = test_predict\n",
    "sb.to_csv('submissioncnn01.csv' , index = False)"
   ]
  }
 ],
 "metadata": {
  "kernelspec": {
   "display_name": "Python 3",
   "language": "python",
   "name": "python3"
  },
  "language_info": {
   "codemirror_mode": {
    "name": "ipython",
    "version": 3
   },
   "file_extension": ".py",
   "mimetype": "text/x-python",
   "name": "python",
   "nbconvert_exporter": "python",
   "pygments_lexer": "ipython3",
   "version": "3.7.4"
  }
 },
 "nbformat": 4,
 "nbformat_minor": 2
}
