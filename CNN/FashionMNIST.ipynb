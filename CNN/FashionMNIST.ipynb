{
 "cells": [
  {
   "cell_type": "code",
   "execution_count": 2,
   "metadata": {},
   "outputs": [],
   "source": [
    "import tensorflow as tf\n",
    "from tensorflow import keras\n",
    "\n",
    "import pandas as pd\n",
    "import numpy as np\n",
    "\n",
    "import matplotlib.pyplot as plt\n",
    "import seaborn as sns"
   ]
  },
  {
   "cell_type": "code",
   "execution_count": 2,
   "metadata": {},
   "outputs": [
    {
     "name": "stdout",
     "output_type": "stream",
     "text": [
      "GPU is available\n"
     ]
    }
   ],
   "source": [
    "print(\"GPU is\", \"available\" if tf.config.list_physical_devices('GPU') else \"NOT AVAILABLE\")"
   ]
  },
  {
   "cell_type": "code",
   "execution_count": 6,
   "metadata": {},
   "outputs": [],
   "source": [
    "# # (X_train, y_train), (X_test, y_test) = fashion_mnist.load_data()\n",
    "\n",
    "# (train_images, train_labels), (test_images, test_labels) = fashion_mnist.load_data()\n",
    "\n",
    "fashion_mnist = tf.keras.datasets.fashion_mnist\n",
    "(x_train , y_train) , (x_test , y_test) = fashion_mnist.load_data()"
   ]
  },
  {
   "cell_type": "code",
   "execution_count": 7,
   "metadata": {},
   "outputs": [
    {
     "data": {
      "text/plain": [
       "array([[[0, 0, 0, ..., 0, 0, 0],\n",
       "        [0, 0, 0, ..., 0, 0, 0],\n",
       "        [0, 0, 0, ..., 0, 0, 0],\n",
       "        ...,\n",
       "        [0, 0, 0, ..., 0, 0, 0],\n",
       "        [0, 0, 0, ..., 0, 0, 0],\n",
       "        [0, 0, 0, ..., 0, 0, 0]],\n",
       "\n",
       "       [[0, 0, 0, ..., 0, 0, 0],\n",
       "        [0, 0, 0, ..., 0, 0, 0],\n",
       "        [0, 0, 0, ..., 0, 0, 0],\n",
       "        ...,\n",
       "        [0, 0, 0, ..., 0, 0, 0],\n",
       "        [0, 0, 0, ..., 0, 0, 0],\n",
       "        [0, 0, 0, ..., 0, 0, 0]],\n",
       "\n",
       "       [[0, 0, 0, ..., 0, 0, 0],\n",
       "        [0, 0, 0, ..., 0, 0, 0],\n",
       "        [0, 0, 0, ..., 0, 0, 0],\n",
       "        ...,\n",
       "        [0, 0, 0, ..., 0, 0, 0],\n",
       "        [0, 0, 0, ..., 0, 0, 0],\n",
       "        [0, 0, 0, ..., 0, 0, 0]],\n",
       "\n",
       "       ...,\n",
       "\n",
       "       [[0, 0, 0, ..., 0, 0, 0],\n",
       "        [0, 0, 0, ..., 0, 0, 0],\n",
       "        [0, 0, 0, ..., 0, 0, 0],\n",
       "        ...,\n",
       "        [0, 0, 0, ..., 0, 0, 0],\n",
       "        [0, 0, 0, ..., 0, 0, 0],\n",
       "        [0, 0, 0, ..., 0, 0, 0]],\n",
       "\n",
       "       [[0, 0, 0, ..., 0, 0, 0],\n",
       "        [0, 0, 0, ..., 0, 0, 0],\n",
       "        [0, 0, 0, ..., 0, 0, 0],\n",
       "        ...,\n",
       "        [0, 0, 0, ..., 0, 0, 0],\n",
       "        [0, 0, 0, ..., 0, 0, 0],\n",
       "        [0, 0, 0, ..., 0, 0, 0]],\n",
       "\n",
       "       [[0, 0, 0, ..., 0, 0, 0],\n",
       "        [0, 0, 0, ..., 0, 0, 0],\n",
       "        [0, 0, 0, ..., 0, 0, 0],\n",
       "        ...,\n",
       "        [0, 0, 0, ..., 0, 0, 0],\n",
       "        [0, 0, 0, ..., 0, 0, 0],\n",
       "        [0, 0, 0, ..., 0, 0, 0]]], dtype=uint8)"
      ]
     },
     "execution_count": 7,
     "metadata": {},
     "output_type": "execute_result"
    }
   ],
   "source": [
    "x_train"
   ]
  },
  {
   "cell_type": "code",
   "execution_count": 8,
   "metadata": {},
   "outputs": [
    {
     "data": {
      "text/plain": [
       "array([9, 0, 0, ..., 3, 0, 5], dtype=uint8)"
      ]
     },
     "execution_count": 8,
     "metadata": {},
     "output_type": "execute_result"
    }
   ],
   "source": [
    "y_train"
   ]
  },
  {
   "cell_type": "code",
   "execution_count": 9,
   "metadata": {},
   "outputs": [
    {
     "data": {
      "text/plain": [
       "array([0, 1, 2, 3, 4, 5, 6, 7, 8, 9], dtype=uint8)"
      ]
     },
     "execution_count": 9,
     "metadata": {},
     "output_type": "execute_result"
    }
   ],
   "source": [
    "np.unique(y_train)"
   ]
  },
  {
   "cell_type": "code",
   "execution_count": 10,
   "metadata": {},
   "outputs": [],
   "source": [
    "class_names = ['T-shirt/top', 'Trouser', 'Pullover', 'Dress', 'Coat',\n",
    "               'Sandal', 'Shirt', 'Sneaker', 'Bag', 'Ankle boot']"
   ]
  },
  {
   "cell_type": "code",
   "execution_count": 11,
   "metadata": {},
   "outputs": [
    {
     "data": {
      "text/plain": [
       "module"
      ]
     },
     "execution_count": 11,
     "metadata": {},
     "output_type": "execute_result"
    }
   ],
   "source": [
    "type(fashion_mnist)"
   ]
  },
  {
   "cell_type": "code",
   "execution_count": 12,
   "metadata": {},
   "outputs": [
    {
     "data": {
      "text/plain": [
       "(60000, 28, 28)"
      ]
     },
     "execution_count": 12,
     "metadata": {},
     "output_type": "execute_result"
    }
   ],
   "source": [
    "x_train.shape"
   ]
  },
  {
   "cell_type": "code",
   "execution_count": 13,
   "metadata": {},
   "outputs": [
    {
     "data": {
      "text/plain": [
       "(60000,)"
      ]
     },
     "execution_count": 13,
     "metadata": {},
     "output_type": "execute_result"
    }
   ],
   "source": [
    "y_train.shape"
   ]
  },
  {
   "cell_type": "code",
   "execution_count": 14,
   "metadata": {},
   "outputs": [
    {
     "name": "stdout",
     "output_type": "stream",
     "text": [
      "Training Lebel:\n",
      "9\n",
      "Training Image:\n",
      "[[  0   0   0   0   0   0   0   0   0   0   0   0   0   0   0   0   0   0\n",
      "    0   0   0   0   0   0   0   0   0   0]\n",
      " [  0   0   0   0   0   0   0   0   0   0   0   0   0   0   0   0   0   0\n",
      "    0   0   0   0   0   0   0   0   0   0]\n",
      " [  0   0   0   0   0   0   0   0   0   0   0   0   0   0   0   0   0   0\n",
      "    0   0   0   0   0   0   0   0   0   0]\n",
      " [  0   0   0   0   0   0   0   0   0   0   0   0   1   0   0  13  73   0\n",
      "    0   1   4   0   0   0   0   1   1   0]\n",
      " [  0   0   0   0   0   0   0   0   0   0   0   0   3   0  36 136 127  62\n",
      "   54   0   0   0   1   3   4   0   0   3]\n",
      " [  0   0   0   0   0   0   0   0   0   0   0   0   6   0 102 204 176 134\n",
      "  144 123  23   0   0   0   0  12  10   0]\n",
      " [  0   0   0   0   0   0   0   0   0   0   0   0   0   0 155 236 207 178\n",
      "  107 156 161 109  64  23  77 130  72  15]\n",
      " [  0   0   0   0   0   0   0   0   0   0   0   1   0  69 207 223 218 216\n",
      "  216 163 127 121 122 146 141  88 172  66]\n",
      " [  0   0   0   0   0   0   0   0   0   1   1   1   0 200 232 232 233 229\n",
      "  223 223 215 213 164 127 123 196 229   0]\n",
      " [  0   0   0   0   0   0   0   0   0   0   0   0   0 183 225 216 223 228\n",
      "  235 227 224 222 224 221 223 245 173   0]\n",
      " [  0   0   0   0   0   0   0   0   0   0   0   0   0 193 228 218 213 198\n",
      "  180 212 210 211 213 223 220 243 202   0]\n",
      " [  0   0   0   0   0   0   0   0   0   1   3   0  12 219 220 212 218 192\n",
      "  169 227 208 218 224 212 226 197 209  52]\n",
      " [  0   0   0   0   0   0   0   0   0   0   6   0  99 244 222 220 218 203\n",
      "  198 221 215 213 222 220 245 119 167  56]\n",
      " [  0   0   0   0   0   0   0   0   0   4   0   0  55 236 228 230 228 240\n",
      "  232 213 218 223 234 217 217 209  92   0]\n",
      " [  0   0   1   4   6   7   2   0   0   0   0   0 237 226 217 223 222 219\n",
      "  222 221 216 223 229 215 218 255  77   0]\n",
      " [  0   3   0   0   0   0   0   0   0  62 145 204 228 207 213 221 218 208\n",
      "  211 218 224 223 219 215 224 244 159   0]\n",
      " [  0   0   0   0  18  44  82 107 189 228 220 222 217 226 200 205 211 230\n",
      "  224 234 176 188 250 248 233 238 215   0]\n",
      " [  0  57 187 208 224 221 224 208 204 214 208 209 200 159 245 193 206 223\n",
      "  255 255 221 234 221 211 220 232 246   0]\n",
      " [  3 202 228 224 221 211 211 214 205 205 205 220 240  80 150 255 229 221\n",
      "  188 154 191 210 204 209 222 228 225   0]\n",
      " [ 98 233 198 210 222 229 229 234 249 220 194 215 217 241  65  73 106 117\n",
      "  168 219 221 215 217 223 223 224 229  29]\n",
      " [ 75 204 212 204 193 205 211 225 216 185 197 206 198 213 240 195 227 245\n",
      "  239 223 218 212 209 222 220 221 230  67]\n",
      " [ 48 203 183 194 213 197 185 190 194 192 202 214 219 221 220 236 225 216\n",
      "  199 206 186 181 177 172 181 205 206 115]\n",
      " [  0 122 219 193 179 171 183 196 204 210 213 207 211 210 200 196 194 191\n",
      "  195 191 198 192 176 156 167 177 210  92]\n",
      " [  0   0  74 189 212 191 175 172 175 181 185 188 189 188 193 198 204 209\n",
      "  210 210 211 188 188 194 192 216 170   0]\n",
      " [  2   0   0   0  66 200 222 237 239 242 246 243 244 221 220 193 191 179\n",
      "  182 182 181 176 166 168  99  58   0   0]\n",
      " [  0   0   0   0   0   0   0  40  61  44  72  41  35   0   0   0   0   0\n",
      "    0   0   0   0   0   0   0   0   0   0]\n",
      " [  0   0   0   0   0   0   0   0   0   0   0   0   0   0   0   0   0   0\n",
      "    0   0   0   0   0   0   0   0   0   0]\n",
      " [  0   0   0   0   0   0   0   0   0   0   0   0   0   0   0   0   0   0\n",
      "    0   0   0   0   0   0   0   0   0   0]]\n"
     ]
    }
   ],
   "source": [
    "print('Training Lebel:')\n",
    "print(y_train[0])\n",
    "print('Training Image:')\n",
    "print(x_train[0])"
   ]
  },
  {
   "cell_type": "code",
   "execution_count": 15,
   "metadata": {},
   "outputs": [
    {
     "data": {
      "text/plain": [
       "255"
      ]
     },
     "execution_count": 15,
     "metadata": {},
     "output_type": "execute_result"
    }
   ],
   "source": [
    "np.max(x_train)"
   ]
  },
  {
   "cell_type": "code",
   "execution_count": 16,
   "metadata": {},
   "outputs": [
    {
     "data": {
      "image/png": "[encoded data removed]",
      "text/plain": [
       "<Figure size 432x288 with 2 Axes>"
      ]
     },
     "metadata": {
      "needs_background": "light"
     },
     "output_type": "display_data"
    }
   ],
   "source": [
    "plt.figure()\n",
    "plt.imshow(x_train[156])\n",
    "plt.colorbar()\n",
    "plt.grid(False)\n",
    "plt.show()"
   ]
  },
  {
   "cell_type": "code",
   "execution_count": 17,
   "metadata": {},
   "outputs": [
    {
     "data": {
      "image/png": "[encoded data removed]",
      "text/plain": [
       "<Figure size 360x360 with 2 Axes>"
      ]
     },
     "metadata": {
      "needs_background": "light"
     },
     "output_type": "display_data"
    }
   ],
   "source": [
    "plt.figure(figsize = (5 , 5))\n",
    "plt.imshow(x_train[50])\n",
    "plt.colorbar()\n",
    "plt.grid(False)\n",
    "plt.show()"
   ]
  },
  {
   "cell_type": "code",
   "execution_count": 18,
   "metadata": {},
   "outputs": [],
   "source": [
    "# convert the value in x_train and x_test  betweeon 0 to 1.\n",
    "\n",
    "x_train = x_train / 255.0\n",
    "\n",
    "x_test = x_test / 255.0"
   ]
  },
  {
   "cell_type": "code",
   "execution_count": 19,
   "metadata": {},
   "outputs": [
    {
     "data": {
      "text/plain": [
       "array([[[0., 0., 0., ..., 0., 0., 0.],\n",
       "        [0., 0., 0., ..., 0., 0., 0.],\n",
       "        [0., 0., 0., ..., 0., 0., 0.],\n",
       "        ...,\n",
       "        [0., 0., 0., ..., 0., 0., 0.],\n",
       "        [0., 0., 0., ..., 0., 0., 0.],\n",
       "        [0., 0., 0., ..., 0., 0., 0.]],\n",
       "\n",
       "       [[0., 0., 0., ..., 0., 0., 0.],\n",
       "        [0., 0., 0., ..., 0., 0., 0.],\n",
       "        [0., 0., 0., ..., 0., 0., 0.],\n",
       "        ...,\n",
       "        [0., 0., 0., ..., 0., 0., 0.],\n",
       "        [0., 0., 0., ..., 0., 0., 0.],\n",
       "        [0., 0., 0., ..., 0., 0., 0.]],\n",
       "\n",
       "       [[0., 0., 0., ..., 0., 0., 0.],\n",
       "        [0., 0., 0., ..., 0., 0., 0.],\n",
       "        [0., 0., 0., ..., 0., 0., 0.],\n",
       "        ...,\n",
       "        [0., 0., 0., ..., 0., 0., 0.],\n",
       "        [0., 0., 0., ..., 0., 0., 0.],\n",
       "        [0., 0., 0., ..., 0., 0., 0.]],\n",
       "\n",
       "       ...,\n",
       "\n",
       "       [[0., 0., 0., ..., 0., 0., 0.],\n",
       "        [0., 0., 0., ..., 0., 0., 0.],\n",
       "        [0., 0., 0., ..., 0., 0., 0.],\n",
       "        ...,\n",
       "        [0., 0., 0., ..., 0., 0., 0.],\n",
       "        [0., 0., 0., ..., 0., 0., 0.],\n",
       "        [0., 0., 0., ..., 0., 0., 0.]],\n",
       "\n",
       "       [[0., 0., 0., ..., 0., 0., 0.],\n",
       "        [0., 0., 0., ..., 0., 0., 0.],\n",
       "        [0., 0., 0., ..., 0., 0., 0.],\n",
       "        ...,\n",
       "        [0., 0., 0., ..., 0., 0., 0.],\n",
       "        [0., 0., 0., ..., 0., 0., 0.],\n",
       "        [0., 0., 0., ..., 0., 0., 0.]],\n",
       "\n",
       "       [[0., 0., 0., ..., 0., 0., 0.],\n",
       "        [0., 0., 0., ..., 0., 0., 0.],\n",
       "        [0., 0., 0., ..., 0., 0., 0.],\n",
       "        ...,\n",
       "        [0., 0., 0., ..., 0., 0., 0.],\n",
       "        [0., 0., 0., ..., 0., 0., 0.],\n",
       "        [0., 0., 0., ..., 0., 0., 0.]]])"
      ]
     },
     "execution_count": 19,
     "metadata": {},
     "output_type": "execute_result"
    }
   ],
   "source": [
    "x_test"
   ]
  },
  {
   "cell_type": "code",
   "execution_count": 20,
   "metadata": {},
   "outputs": [
    {
     "data": {
      "text/plain": [
       "array([[[0., 0., 0., ..., 0., 0., 0.],\n",
       "        [0., 0., 0., ..., 0., 0., 0.],\n",
       "        [0., 0., 0., ..., 0., 0., 0.],\n",
       "        ...,\n",
       "        [0., 0., 0., ..., 0., 0., 0.],\n",
       "        [0., 0., 0., ..., 0., 0., 0.],\n",
       "        [0., 0., 0., ..., 0., 0., 0.]],\n",
       "\n",
       "       [[0., 0., 0., ..., 0., 0., 0.],\n",
       "        [0., 0., 0., ..., 0., 0., 0.],\n",
       "        [0., 0., 0., ..., 0., 0., 0.],\n",
       "        ...,\n",
       "        [0., 0., 0., ..., 0., 0., 0.],\n",
       "        [0., 0., 0., ..., 0., 0., 0.],\n",
       "        [0., 0., 0., ..., 0., 0., 0.]],\n",
       "\n",
       "       [[0., 0., 0., ..., 0., 0., 0.],\n",
       "        [0., 0., 0., ..., 0., 0., 0.],\n",
       "        [0., 0., 0., ..., 0., 0., 0.],\n",
       "        ...,\n",
       "        [0., 0., 0., ..., 0., 0., 0.],\n",
       "        [0., 0., 0., ..., 0., 0., 0.],\n",
       "        [0., 0., 0., ..., 0., 0., 0.]],\n",
       "\n",
       "       ...,\n",
       "\n",
       "       [[0., 0., 0., ..., 0., 0., 0.],\n",
       "        [0., 0., 0., ..., 0., 0., 0.],\n",
       "        [0., 0., 0., ..., 0., 0., 0.],\n",
       "        ...,\n",
       "        [0., 0., 0., ..., 0., 0., 0.],\n",
       "        [0., 0., 0., ..., 0., 0., 0.],\n",
       "        [0., 0., 0., ..., 0., 0., 0.]],\n",
       "\n",
       "       [[0., 0., 0., ..., 0., 0., 0.],\n",
       "        [0., 0., 0., ..., 0., 0., 0.],\n",
       "        [0., 0., 0., ..., 0., 0., 0.],\n",
       "        ...,\n",
       "        [0., 0., 0., ..., 0., 0., 0.],\n",
       "        [0., 0., 0., ..., 0., 0., 0.],\n",
       "        [0., 0., 0., ..., 0., 0., 0.]],\n",
       "\n",
       "       [[0., 0., 0., ..., 0., 0., 0.],\n",
       "        [0., 0., 0., ..., 0., 0., 0.],\n",
       "        [0., 0., 0., ..., 0., 0., 0.],\n",
       "        ...,\n",
       "        [0., 0., 0., ..., 0., 0., 0.],\n",
       "        [0., 0., 0., ..., 0., 0., 0.],\n",
       "        [0., 0., 0., ..., 0., 0., 0.]]])"
      ]
     },
     "execution_count": 20,
     "metadata": {},
     "output_type": "execute_result"
    }
   ],
   "source": [
    "x_train"
   ]
  },
  {
   "cell_type": "code",
   "execution_count": 21,
   "metadata": {},
   "outputs": [
    {
     "data": {
      "image/png": "[encoded data removed]",
      "text/plain": [
       "<Figure size 576x576 with 2 Axes>"
      ]
     },
     "metadata": {
      "needs_background": "light"
     },
     "output_type": "display_data"
    }
   ],
   "source": [
    "plt.figure(figsize = (8, 8))\n",
    "plt.imshow(x_train[20])\n",
    "plt.colorbar()\n",
    "plt.grid(False)\n",
    "plt.show()"
   ]
  },
  {
   "cell_type": "code",
   "execution_count": 22,
   "metadata": {},
   "outputs": [
    {
     "data": {
      "image/png": "[encoded data removed]",
      "text/plain": [
       "<Figure size 720x720 with 25 Axes>"
      ]
     },
     "metadata": {},
     "output_type": "display_data"
    }
   ],
   "source": [
    "plt.figure(figsize=(10,10))\n",
    "for i in range(25):\n",
    "    \n",
    "    plt.subplot(5,5,i+1)\n",
    "    plt.xticks([])\n",
    "    plt.yticks([])\n",
    "    plt.grid(False)\n",
    "    \n",
    "    plt.imshow(x_train[i])\n",
    "    plt.xlabel(class_names[y_train[i]])\n",
    "    \n",
    "plt.show()"
   ]
  },
  {
   "cell_type": "code",
   "execution_count": 3,
   "metadata": {},
   "outputs": [],
   "source": [
    "# Build the model\n",
    "\n",
    "model = keras.Sequential([\n",
    "    \n",
    "    keras.layers.Flatten(input_shape = (28 , 28)),\n",
    "    keras.layers.Dense(128, activation='relu'),\n",
    "    keras.layers.Dense(10, activation='softmax')\n",
    "    \n",
    "])"
   ]
  },
  {
   "cell_type": "code",
   "execution_count": 4,
   "metadata": {},
   "outputs": [],
   "source": [
    "model.compile(optimizer = 'adam' , loss='sparse_categorical_crossentropy' , metrics = ['accuracy'])"
   ]
  },
  {
   "cell_type": "code",
   "execution_count": 23,
   "metadata": {},
   "outputs": [
    {
     "name": "stdout",
     "output_type": "stream",
     "text": [
      "Train on 60000 samples\n",
      "60000/60000 [==============================] - 9s 149us/sample - loss: 0.5004 - accuracy: 0.8242\n"
     ]
    },
    {
     "data": {
      "text/plain": [
       "<tensorflow.python.keras.callbacks.History at 0x1e80ce978c8>"
      ]
     },
     "execution_count": 23,
     "metadata": {},
     "output_type": "execute_result"
    }
   ],
   "source": [
    "model.fit(x_train , y_train)"
   ]
  },
  {
   "cell_type": "code",
   "execution_count": 24,
   "metadata": {},
   "outputs": [
    {
     "name": "stdout",
     "output_type": "stream",
     "text": [
      "10000/10000 [==============================] - 1s 139us/sample - loss: 0.4356 - accuracy: 0.8454\n",
      "\n",
      "Test accuracy: 0.8454\n"
     ]
    }
   ],
   "source": [
    "test_loss, test_acc = model.evaluate(x_test , y_test)\n",
    "\n",
    "print('\\nTest accuracy:', test_acc)"
   ]
  },
  {
   "cell_type": "code",
   "execution_count": 27,
   "metadata": {},
   "outputs": [
    {
     "data": {
      "text/plain": [
       "0.8454"
      ]
     },
     "execution_count": 27,
     "metadata": {},
     "output_type": "execute_result"
    }
   ],
   "source": [
    "# In scikit learn how to predict\n",
    "\n",
    "from sklearn.metrics import accuracy_score\n",
    "\n",
    "pred_lebel = model.predict_classes(x_test)\n",
    "accuracy_score(y_test , pred_lebel)"
   ]
  },
  {
   "cell_type": "code",
   "execution_count": 28,
   "metadata": {},
   "outputs": [],
   "source": [
    "# predict some example\n",
    "\n",
    "predic = model.predict(x_test)"
   ]
  },
  {
   "cell_type": "code",
   "execution_count": 30,
   "metadata": {},
   "outputs": [
    {
     "data": {
      "text/plain": [
       "array([1.1859979e-01, 6.3176709e-04, 6.2718946e-01, 2.8582342e-02,\n",
       "       5.9703002e-03, 1.7824216e-07, 1.9843911e-01, 1.3571373e-07,\n",
       "       2.0586636e-02, 3.6078569e-07], dtype=float32)"
      ]
     },
     "execution_count": 30,
     "metadata": {},
     "output_type": "execute_result"
    }
   ],
   "source": [
    "predict[20]"
   ]
  },
  {
   "cell_type": "code",
   "execution_count": 31,
   "metadata": {},
   "outputs": [
    {
     "data": {
      "text/plain": [
       "2"
      ]
     },
     "execution_count": 31,
     "metadata": {},
     "output_type": "execute_result"
    }
   ],
   "source": [
    "np.argmax(predict[20])"
   ]
  },
  {
   "cell_type": "code",
   "execution_count": 33,
   "metadata": {},
   "outputs": [
    {
     "data": {
      "text/plain": [
       "2"
      ]
     },
     "execution_count": 33,
     "metadata": {},
     "output_type": "execute_result"
    }
   ],
   "source": [
    "y_test[20]"
   ]
  },
  {
   "cell_type": "markdown",
   "metadata": {},
   "source": [
    "Our model is predicting correctly."
   ]
  },
  {
   "cell_type": "code",
   "execution_count": 34,
   "metadata": {},
   "outputs": [],
   "source": [
    "def plot_image(i , predictions_array , true_label , img):\n",
    "    \n",
    "    predictions_array , true_label, img = predictions_array , true_label[i] , img[i]\n",
    "    plt.grid(False)\n",
    "    plt.xticks([])\n",
    "    plt.yticks([])\n",
    "\n",
    "    plt.imshow(img)\n",
    "    \n",
    "    predicted_label = np.argmax(predictions_array)\n",
    "    if predicted_label == true_label:\n",
    "        color = 'blue'\n",
    "    else:\n",
    "        color = 'red'\n",
    "\n",
    "    plt.xlabel(\"{} {:2.0f}% ({})\".format(class_names[predicted_label],\n",
    "                                100*np.max(predictions_array),\n",
    "                                class_names[true_label]),\n",
    "                                color=color)"
   ]
  },
  {
   "cell_type": "code",
   "execution_count": 35,
   "metadata": {},
   "outputs": [],
   "source": [
    "def plot_value_array(i, predictions_array, true_label):\n",
    "    \n",
    "    predictions_array, true_label = predictions_array, true_label[i]\n",
    "    plt.grid(False)\n",
    "    plt.xticks(range(10))\n",
    "    plt.yticks([])\n",
    "    thisplot = plt.bar(range(10), predictions_array, color=\"#777777\")\n",
    "    plt.ylim([0, 1])\n",
    "    predicted_label = np.argmax(predictions_array)\n",
    "\n",
    "    thisplot[predicted_label].set_color('red')\n",
    "    thisplot[true_label].set_color('blue')"
   ]
  },
  {
   "cell_type": "code",
   "execution_count": 39,
   "metadata": {},
   "outputs": [
    {
     "data": {
      "image/png": "[encoded data removed]",
      "text/plain": [
       "<Figure size 720x576 with 2 Axes>"
      ]
     },
     "metadata": {
      "needs_background": "light"
     },
     "output_type": "display_data"
    }
   ],
   "source": [
    "i = 0\n",
    "plt.figure(figsize=(10 , 8))\n",
    "plt.subplot(1,2,1)\n",
    "plot_image(i , predict[i] , y_test , x_test)\n",
    "plt.subplot(1,2,2)\n",
    "plot_value_array(i, predict[i] ,  y_test)\n",
    "plt.show()"
   ]
  },
  {
   "cell_type": "code",
   "execution_count": 40,
   "metadata": {},
   "outputs": [
    {
     "data": {
      "image/png": "[encoded data removed]",
      "text/plain": [
       "<Figure size 720x576 with 2 Axes>"
      ]
     },
     "metadata": {
      "needs_background": "light"
     },
     "output_type": "display_data"
    }
   ],
   "source": [
    "i = 121\n",
    "plt.figure(figsize=(10 , 8))\n",
    "plt.subplot(1,2,1)\n",
    "plot_image(i , predict[i] , y_test , x_test)\n",
    "plt.subplot(1,2,2)\n",
    "plot_value_array(i, predict[i] ,  y_test)\n",
    "plt.show()"
   ]
  },
  {
   "cell_type": "code",
   "execution_count": 41,
   "metadata": {},
   "outputs": [
    {
     "data": {
      "image/png": "[encoded data removed]",
      "text/plain": [
       "<Figure size 720x576 with 2 Axes>"
      ]
     },
     "metadata": {
      "needs_background": "light"
     },
     "output_type": "display_data"
    }
   ],
   "source": [
    "i = 12\n",
    "plt.figure(figsize=(10 , 8))\n",
    "plt.subplot(1,2,1)\n",
    "plot_image(i , predict[i] , y_test , x_test)\n",
    "plt.subplot(1,2,2)\n",
    "plot_value_array(i, predict[i] ,  y_test)\n",
    "plt.show()"
   ]
  },
  {
   "cell_type": "code",
   "execution_count": 43,
   "metadata": {},
   "outputs": [
    {
     "data": {
      "image/png": "[encoded data removed]",
      "text/plain": [
       "<Figure size 864x720 with 30 Axes>"
      ]
     },
     "metadata": {
      "needs_background": "light"
     },
     "output_type": "display_data"
    }
   ],
   "source": [
    "num_rows = 5\n",
    "num_cols = 3\n",
    "num_images = num_rows * num_cols\n",
    "\n",
    "plt.figure(figsize=(2*2*num_cols , 2*num_rows))\n",
    "for i in range(num_images):\n",
    "  plt.subplot(num_rows, 2*num_cols, 2*i+1)\n",
    "  plot_image(i, predict[i] , y_test , x_test)\n",
    "  plt.subplot(num_rows, 2*num_cols, 2*i+2)\n",
    "  plot_value_array(i , predict[i] , y_test)\n",
    "plt.tight_layout()\n",
    "plt.show()"
   ]
  },
  {
   "cell_type": "code",
   "execution_count": 44,
   "metadata": {},
   "outputs": [
    {
     "name": "stdout",
     "output_type": "stream",
     "text": [
      "(28, 28)\n"
     ]
    }
   ],
   "source": [
    "img = x_test[1]\n",
    "\n",
    "print(img.shape)"
   ]
  },
  {
   "cell_type": "code",
   "execution_count": 45,
   "metadata": {},
   "outputs": [
    {
     "data": {
      "text/plain": [
       "(1, 28, 28)"
      ]
     },
     "execution_count": 45,
     "metadata": {},
     "output_type": "execute_result"
    }
   ],
   "source": [
    "img = (np.expand_dims(img , 0))\n",
    "img.shape"
   ]
  },
  {
   "cell_type": "code",
   "execution_count": 46,
   "metadata": {},
   "outputs": [
    {
     "name": "stdout",
     "output_type": "stream",
     "text": [
      "[[3.3788441e-04 3.8904295e-07 9.2949873e-01 2.8941137e-04 3.7235621e-02\n",
      "  5.6436429e-09 3.2457437e-02 9.5190344e-10 1.8047607e-04 9.7594613e-11]]\n"
     ]
    }
   ],
   "source": [
    "predictions_single = model.predict(img)\n",
    "\n",
    "print(predictions_single)"
   ]
  },
  {
   "cell_type": "code",
   "execution_count": 47,
   "metadata": {},
   "outputs": [
    {
     "data": {
      "image/png": "[encoded data removed]",
      "text/plain": [
       "<Figure size 432x288 with 1 Axes>"
      ]
     },
     "metadata": {
      "needs_background": "light"
     },
     "output_type": "display_data"
    }
   ],
   "source": [
    "plot_value_array(1, predictions_single[0] , y_test)\n",
    "_ = plt.xticks(range(10), class_names, rotation=45)"
   ]
  },
  {
   "cell_type": "code",
   "execution_count": 48,
   "metadata": {},
   "outputs": [
    {
     "data": {
      "text/plain": [
       "2"
      ]
     },
     "execution_count": 48,
     "metadata": {},
     "output_type": "execute_result"
    }
   ],
   "source": [
    "np.argmax(predictions_single)"
   ]
  },
  {
   "cell_type": "markdown",
   "metadata": {},
   "source": [
    "### Callback"
   ]
  },
  {
   "cell_type": "code",
   "execution_count": 49,
   "metadata": {},
   "outputs": [],
   "source": [
    "class myCallback(tf.keras.callbacks.Callback):\n",
    "  def on_epoch_end(self, epoch, logs={}):\n",
    "    if(logs.get('accuracy') > 0.9):\n",
    "      print(\"\\nReached 90% accuracy so cancelling training!\")\n",
    "      self.model.stop_training = True"
   ]
  },
  {
   "cell_type": "code",
   "execution_count": 50,
   "metadata": {},
   "outputs": [],
   "source": [
    "fashion_mnist = tf.keras.datasets.fashion_mnist\n",
    "\n",
    "(x_train, y_train),(x_test, y_test) = fashion_mnist.load_data()\n",
    "x_train, x_test = x_train / 255.0, x_test / 255.0\n",
    "\n",
    "callbacks = myCallback()"
   ]
  },
  {
   "cell_type": "code",
   "execution_count": 51,
   "metadata": {},
   "outputs": [],
   "source": [
    "model = tf.keras.models.Sequential([\n",
    "  tf.keras.layers.Flatten(input_shape=(28, 28)),\n",
    "  tf.keras.layers.Dense(512, activation=tf.nn.relu),\n",
    "  tf.keras.layers.Dense(10, activation=tf.nn.softmax)\n",
    "])\n",
    "\n",
    "model.compile(optimizer='adam',\n",
    "              loss='sparse_categorical_crossentropy',\n",
    "              metrics=['accuracy'])"
   ]
  },
  {
   "cell_type": "code",
   "execution_count": 52,
   "metadata": {},
   "outputs": [
    {
     "name": "stdout",
     "output_type": "stream",
     "text": [
      "Train on 60000 samples\n",
      "Epoch 1/10\n",
      "60000/60000 [==============================] - 11s 186us/sample - loss: 0.4779 - accuracy: 0.8299\n",
      "Epoch 2/10\n",
      "60000/60000 [==============================] - 10s 165us/sample - loss: 0.3553 - accuracy: 0.8712\n",
      "Epoch 3/10\n",
      "60000/60000 [==============================] - 11s 180us/sample - loss: 0.3200 - accuracy: 0.8815\n",
      "Epoch 4/10\n",
      "60000/60000 [==============================] - 10s 168us/sample - loss: 0.2979 - accuracy: 0.8895\n",
      "Epoch 5/10\n",
      "60000/60000 [==============================] - 10s 159us/sample - loss: 0.2786 - accuracy: 0.8966\n",
      "Epoch 6/10\n",
      "59616/60000 [============================>.] - ETA: 0s - loss: 0.2639 - accuracy: 0.9026\n",
      "Reached 90% accuracy so cancelling training!\n",
      "60000/60000 [==============================] - 10s 168us/sample - loss: 0.2634 - accuracy: 0.9028\n"
     ]
    },
    {
     "data": {
      "text/plain": [
       "<tensorflow.python.keras.callbacks.History at 0x1e82ef3f5c8>"
      ]
     },
     "execution_count": 52,
     "metadata": {},
     "output_type": "execute_result"
    }
   ],
   "source": [
    "model.fit(x_train, y_train, epochs=10, callbacks=[callbacks])"
   ]
  },
  {
   "cell_type": "code",
   "execution_count": 53,
   "metadata": {},
   "outputs": [
    {
     "name": "stdout",
     "output_type": "stream",
     "text": [
      "Model: \"sequential_1\"\n",
      "_________________________________________________________________\n",
      "Layer (type)                 Output Shape              Param #   \n",
      "=================================================================\n",
      "flatten_1 (Flatten)          (None, 784)               0         \n",
      "_________________________________________________________________\n",
      "dense_2 (Dense)              (None, 512)               401920    \n",
      "_________________________________________________________________\n",
      "dense_3 (Dense)              (None, 10)                5130      \n",
      "=================================================================\n",
      "Total params: 407,050\n",
      "Trainable params: 407,050\n",
      "Non-trainable params: 0\n",
      "_________________________________________________________________\n"
     ]
    }
   ],
   "source": [
    "model.summary()"
   ]
  },
  {
   "cell_type": "code",
   "execution_count": 62,
   "metadata": {},
   "outputs": [
    {
     "name": "stdout",
     "output_type": "stream",
     "text": [
      "Failed to import pydot. You must install pydot and graphviz for `pydotprint` to work.\n"
     ]
    }
   ],
   "source": [
    "keras.utils.plot_model(model , \"mnist_model.png\" , show_shapes = True)"
   ]
  },
  {
   "cell_type": "code",
   "execution_count": 56,
   "metadata": {},
   "outputs": [
    {
     "data": {
      "text/plain": [
       "[<tensorflow.python.keras.layers.core.Flatten at 0x1e80cd4eec8>,\n",
       " <tensorflow.python.keras.layers.core.Dense at 0x1e82ee77648>,\n",
       " <tensorflow.python.keras.layers.core.Dense at 0x1e82ee77fc8>]"
      ]
     },
     "execution_count": 56,
     "metadata": {},
     "output_type": "execute_result"
    }
   ],
   "source": [
    "model.layers"
   ]
  },
  {
   "cell_type": "code",
   "execution_count": 57,
   "metadata": {},
   "outputs": [
    {
     "data": {
      "text/plain": [
       "'dense_2'"
      ]
     },
     "execution_count": 57,
     "metadata": {},
     "output_type": "execute_result"
    }
   ],
   "source": [
    "hidden1 = model.layers[1]\n",
    "hidden1.name"
   ]
  },
  {
   "cell_type": "code",
   "execution_count": 58,
   "metadata": {},
   "outputs": [
    {
     "data": {
      "text/plain": [
       "True"
      ]
     },
     "execution_count": 58,
     "metadata": {},
     "output_type": "execute_result"
    }
   ],
   "source": [
    "model.get_layer(hidden1.name) is hidden1"
   ]
  },
  {
   "cell_type": "code",
   "execution_count": 59,
   "metadata": {},
   "outputs": [
    {
     "data": {
      "text/plain": [
       "array([[-0.01427549,  0.03842335,  0.01592055, ..., -0.15669034,\n",
       "         0.04889252,  0.17987612],\n",
       "       [-0.00258274, -0.04154759,  0.08789601, ...,  0.2886445 ,\n",
       "         0.10458619,  0.06035099],\n",
       "       [-0.04025131, -0.04954053, -0.10864539, ..., -0.03751158,\n",
       "         0.30347475,  0.17263155],\n",
       "       ...,\n",
       "       [ 0.0121389 ,  0.0428444 , -0.37281522, ...,  0.05109574,\n",
       "         0.3922359 , -0.03964726],\n",
       "       [ 0.01257182,  0.10100812, -0.25071725, ..., -0.00353336,\n",
       "         0.3390491 , -0.1654187 ],\n",
       "       [ 0.0515145 ,  0.08811791, -0.04696128, ..., -0.25890574,\n",
       "         0.2784662 ,  0.00390985]], dtype=float32)"
      ]
     },
     "execution_count": 59,
     "metadata": {},
     "output_type": "execute_result"
    }
   ],
   "source": [
    "weights , biases = hidden1.get_weights()\n",
    "weights"
   ]
  },
  {
   "cell_type": "code",
   "execution_count": 60,
   "metadata": {},
   "outputs": [
    {
     "data": {
      "text/plain": [
       "array([ 2.91453987e-01,  1.75009985e-02, -1.68246284e-01,  1.10221900e-01,\n",
       "       -3.60151120e-02,  1.17469549e-01,  8.95052701e-02,  3.54224116e-01,\n",
       "        3.44777219e-02,  8.38653892e-02, -1.94599722e-02, -3.88984643e-02,\n",
       "        3.24270666e-01,  2.64346778e-01, -1.34194093e-02,  3.16727936e-01,\n",
       "        5.37668824e-01,  1.44026577e-01,  1.49590656e-01,  2.18371227e-01,\n",
       "       -1.27289491e-02, -3.83538976e-02,  2.79749393e-01,  8.53427276e-02,\n",
       "        3.04589361e-01,  1.50966853e-01,  1.26860579e-02, -9.34007093e-02,\n",
       "        9.93412919e-03,  6.20793439e-02,  3.00528377e-01,  1.13638081e-01,\n",
       "        5.82523383e-02, -9.27739441e-02,  3.28236938e-01,  1.93835169e-01,\n",
       "       -1.25620365e-01,  3.10204364e-02,  2.00816840e-01,  1.89083666e-02,\n",
       "       -7.97049142e-03,  3.14524859e-01,  1.32039681e-01,  1.38488322e-01,\n",
       "       -1.25941653e-02,  1.39494672e-01,  2.68913005e-02, -1.16603337e-01,\n",
       "        2.51060396e-01,  2.30255157e-01, -3.10069978e-01,  2.52978206e-01,\n",
       "       -1.27194179e-02,  2.59028643e-01,  3.19025725e-01,  6.99718967e-02,\n",
       "       -1.10390231e-01,  1.01808555e-01,  1.00077629e-01, -1.74903750e-01,\n",
       "        2.58413583e-01, -2.89514139e-02,  3.90983164e-01,  1.16069637e-01,\n",
       "        2.47067064e-02, -7.17511252e-02, -8.12812969e-02,  4.50138599e-01,\n",
       "       -1.69403777e-02,  9.03644338e-02, -1.26050547e-01,  2.86384940e-01,\n",
       "        1.07174769e-01,  1.32013381e-01, -4.69417684e-02,  4.37743440e-02,\n",
       "       -1.25453891e-02,  2.68038601e-01,  2.41063640e-01, -3.13367024e-02,\n",
       "        2.71871567e-01, -1.21403731e-01,  7.42614791e-02,  1.50269166e-01,\n",
       "        3.21481198e-01,  1.00380018e-01,  8.46188217e-02,  3.36442649e-01,\n",
       "        1.62162051e-01,  1.21575058e-01,  1.02040030e-01,  7.83067420e-02,\n",
       "        3.79448354e-01, -1.67813897e-02, -1.86099604e-01,  1.74389765e-01,\n",
       "       -1.12267653e-03,  1.64732367e-01,  1.99471489e-01,  3.33416611e-01,\n",
       "       -1.61574073e-02, -1.89910922e-02,  1.67506695e-01,  3.87189060e-01,\n",
       "       -1.10797063e-02,  1.50268227e-01,  1.02116898e-01, -8.53804965e-03,\n",
       "        2.96493560e-01, -1.27246687e-02,  2.86303293e-02, -1.87153414e-01,\n",
       "        1.87316269e-01,  1.34708941e-01,  4.44824398e-01,  3.04126620e-01,\n",
       "       -1.78996518e-01,  1.35788664e-01,  1.90806851e-01, -1.16183227e-02,\n",
       "        4.17530611e-02,  3.12454581e-01,  1.29180312e-01, -1.16983624e-02,\n",
       "        2.95967221e-01,  1.32416427e-01,  1.74281886e-03,  1.03097290e-01,\n",
       "       -7.06195878e-03, -1.86350122e-01, -1.06313996e-01, -1.79762483e-01,\n",
       "        1.28902644e-01,  1.08781829e-01,  2.45840028e-01,  1.50480717e-01,\n",
       "        1.93658695e-01,  2.63854504e-01,  3.91800702e-02,  3.10082376e-01,\n",
       "        1.39058083e-01,  2.43302777e-01, -5.10029122e-03, -1.22563392e-01,\n",
       "        1.88181013e-01,  1.06079616e-01,  2.37542003e-01, -2.45148391e-02,\n",
       "        3.77035812e-02, -4.84389849e-02,  1.64642155e-01,  9.22947302e-02,\n",
       "       -1.63803175e-02,  5.82999811e-02, -8.37354828e-03,  1.51963555e-03,\n",
       "        4.49643999e-01,  1.53649196e-01, -1.66072235e-01,  1.26413673e-01,\n",
       "       -2.62015581e-01,  2.03715205e-01,  3.23001742e-01,  2.43299901e-02,\n",
       "       -8.36529806e-02,  4.47178692e-01, -8.52710847e-03,  7.42256641e-02,\n",
       "        1.74979880e-01,  1.61617305e-02, -2.18148112e-01,  3.63383681e-01,\n",
       "        2.39528999e-01,  1.00780189e-01, -1.54413106e-02,  3.10847342e-01,\n",
       "        1.48642696e-02,  2.57079273e-01,  5.26447296e-01,  1.84293792e-01,\n",
       "       -1.60711538e-02,  9.03060362e-02, -6.56189956e-03, -1.08381491e-02,\n",
       "       -2.07595721e-01,  2.43482530e-01,  3.58555704e-01,  4.03903484e-01,\n",
       "        3.86847913e-01,  3.17265578e-02, -1.59816414e-01,  3.41530979e-01,\n",
       "       -3.18903439e-02,  1.75264522e-01,  3.54195386e-01,  2.30243325e-01,\n",
       "        2.10670054e-01,  3.47863138e-01,  2.63369352e-01,  2.77970165e-01,\n",
       "       -1.84421510e-01,  1.07150087e-02,  1.20700325e-03,  8.54877010e-02,\n",
       "        3.68429601e-01,  1.85191765e-01,  4.44495901e-02,  4.10183907e-01,\n",
       "        2.20621284e-02,  6.48224875e-02,  7.74515122e-02,  1.06048405e-01,\n",
       "       -1.40407652e-01,  9.38964263e-03, -3.25153507e-02,  2.41079509e-01,\n",
       "       -3.90366316e-02, -1.12637416e-01, -4.99016345e-02, -1.17365099e-01,\n",
       "       -1.88946892e-02, -9.08828247e-03,  9.30239782e-02,  2.75444865e-01,\n",
       "        1.46987915e-01,  2.26702616e-01,  2.79082298e-01,  8.01678970e-02,\n",
       "       -3.81640524e-01,  3.61738265e-01, -3.03499028e-02,  7.81218037e-02,\n",
       "       -5.83479693e-03,  8.96253660e-02, -9.91354138e-02,  2.10427180e-01,\n",
       "        1.97157294e-01,  2.84444302e-01,  2.79293895e-01,  1.41947821e-01,\n",
       "        1.38541341e-01, -1.12669133e-01, -2.03299914e-02,  5.32633683e-04,\n",
       "        2.08926797e-01, -2.02672273e-01, -1.41772524e-01,  1.76914893e-02,\n",
       "        1.65735945e-01,  2.05814615e-01,  1.08154833e-01, -1.42017500e-02,\n",
       "       -9.55262315e-03, -3.47842835e-03,  3.03731263e-01, -7.40271658e-02,\n",
       "        1.18068799e-01,  2.26035044e-01, -5.38833365e-02,  2.71475941e-01,\n",
       "       -2.44312789e-02,  2.51706868e-01,  5.44707151e-03,  5.98697998e-02,\n",
       "       -1.81080047e-02, -2.07054302e-01, -1.71107993e-01,  1.07140847e-01,\n",
       "        3.01110178e-01, -1.82393298e-01,  2.70699933e-02,  3.06783259e-01,\n",
       "        2.37698182e-01,  1.48778558e-01,  3.45480025e-01,  4.31830212e-02,\n",
       "       -2.27394160e-02,  1.59963340e-01,  2.63974722e-02, -1.13994040e-01,\n",
       "        3.26141298e-01, -1.25277899e-02,  1.31378248e-01,  2.77714878e-01,\n",
       "        1.89401180e-01,  1.18784368e-01,  4.54386473e-02,  3.58725131e-01,\n",
       "       -1.35713741e-01, -1.56612843e-02,  5.47065794e-01, -9.12962109e-02,\n",
       "        2.09601343e-01,  2.20596611e-01,  1.45914080e-02, -2.07290892e-02,\n",
       "       -1.30773298e-02,  2.79546142e-01, -2.01902911e-02,  2.21446112e-01,\n",
       "        2.31901184e-01,  2.09498212e-01, -7.45767588e-03,  2.99519092e-01,\n",
       "        7.21725868e-04,  7.34555349e-03,  6.58784136e-02, -1.81599222e-02,\n",
       "       -2.39894316e-02,  2.28666872e-01,  7.73283392e-02,  2.98502147e-01,\n",
       "        9.11659524e-02,  4.11558479e-01,  2.29505882e-01, -1.23546226e-02,\n",
       "        4.42773923e-02,  6.68719113e-02, -2.03520618e-03, -1.76004879e-02,\n",
       "       -2.13235468e-02,  1.11812502e-01,  3.36459994e-01,  4.21769828e-01,\n",
       "        1.89924404e-01,  3.52020025e-01, -3.28674346e-01,  1.15004964e-01,\n",
       "       -1.65015701e-02,  2.77911603e-01, -3.44971269e-01, -7.64606670e-02,\n",
       "        3.55585804e-03, -2.47266665e-02,  3.55335742e-01,  4.85162079e-01,\n",
       "        1.16007112e-01,  2.89177179e-01, -1.54515021e-02,  1.23639524e-01,\n",
       "        3.36840264e-02, -1.22945439e-02, -1.70417465e-02,  1.67192668e-01,\n",
       "       -4.54564020e-02,  2.80639410e-01, -2.26779059e-02,  4.04564023e-01,\n",
       "        1.89785406e-01,  8.98022279e-02, -1.12082707e-02,  3.02337825e-01,\n",
       "       -1.86778549e-02,  2.44606629e-01,  9.01412740e-02,  6.08700700e-02,\n",
       "        2.19832480e-01, -1.46603793e-01, -1.67958915e-01, -1.06595140e-02,\n",
       "       -2.05699190e-01,  9.10699181e-03, -1.22263171e-02,  2.89767444e-01,\n",
       "        1.64748758e-01,  3.73144358e-01,  6.09617122e-02,  1.64541692e-01,\n",
       "        2.39499137e-01,  3.82684059e-02, -2.15644557e-02, -6.30960464e-02,\n",
       "        1.05480716e-01,  1.36806637e-01,  1.39804631e-01, -1.98918357e-01,\n",
       "       -7.30575770e-02,  9.97845009e-02, -4.64753091e-01,  1.12928182e-01,\n",
       "       -9.33175981e-02,  2.95686722e-01,  9.82448179e-03,  7.62002319e-02,\n",
       "        2.07407206e-01,  2.36986324e-01, -2.09464058e-02,  9.25662667e-02,\n",
       "        3.59590977e-01,  4.01959062e-01,  3.27566177e-01,  1.18404023e-01,\n",
       "       -7.20444471e-02,  1.58120960e-01, -1.81191210e-02, -7.30029121e-03,\n",
       "        1.40067309e-01,  6.90077245e-02,  7.91349262e-02, -1.55638587e-02,\n",
       "       -1.54036190e-02, -1.20347828e-01,  8.32710706e-04,  3.23116809e-01,\n",
       "        7.02262446e-02,  1.82235345e-01,  2.58444607e-01,  2.39092156e-01,\n",
       "        6.49829730e-02,  7.01648965e-02,  1.61312759e-01,  2.61974454e-01,\n",
       "        9.53043178e-02,  3.53989214e-01,  6.59647631e-03, -2.43541256e-01,\n",
       "       -2.39470880e-02,  9.77148637e-02,  1.01203695e-01, -4.80813943e-02,\n",
       "        1.33876041e-01, -1.23102982e-02,  2.18982100e-01,  7.19649568e-02,\n",
       "       -8.48156214e-03,  1.56883150e-01,  9.07791406e-02,  2.87434459e-01,\n",
       "        2.25305319e-01,  1.97472602e-01, -2.31255621e-01,  4.09187913e-01,\n",
       "        2.38961339e-01,  3.92243452e-02, -3.95275513e-03,  1.21397987e-01,\n",
       "        4.41553295e-02,  1.71716660e-01, -1.97603703e-02, -2.60029882e-01,\n",
       "       -1.62282493e-02,  1.05595641e-01,  9.67709497e-02, -4.73810025e-02,\n",
       "       -2.19115652e-02,  3.95810045e-02, -3.73703204e-02,  4.26838964e-01,\n",
       "        2.25380108e-01,  9.23929513e-02,  1.12560704e-01,  2.38831460e-01,\n",
       "        3.04016173e-01,  1.41211882e-01,  3.93177092e-01,  1.58379227e-01,\n",
       "       -1.59029558e-01,  1.24513634e-01,  1.72341287e-01,  3.62171263e-01,\n",
       "       -1.37802243e-01, -1.05182640e-01,  3.33564952e-02,  2.63584852e-01,\n",
       "       -1.91479381e-02,  1.75323844e-01,  2.00440571e-01,  3.80669460e-02,\n",
       "        1.11212745e-01,  7.73234889e-02,  2.30698287e-01,  6.59875646e-02,\n",
       "        2.49890298e-01, -2.00224891e-02, -3.86879027e-01,  3.85998515e-03,\n",
       "        2.89886296e-01,  1.24698043e-01, -1.15936995e-02, -4.85426746e-02,\n",
       "        1.72654793e-01,  3.21451932e-01, -1.39734536e-01,  3.42086136e-01,\n",
       "        2.84176499e-01,  2.69652963e-01,  6.10099658e-02,  1.45342618e-01,\n",
       "       -9.94085055e-03, -1.33917239e-02, -9.18554589e-02,  2.63308376e-01,\n",
       "       -2.74617493e-01,  9.74967927e-02, -7.56346360e-02,  2.09964216e-02,\n",
       "        4.80592221e-01, -6.45243004e-02, -7.55471736e-02, -2.74574727e-01,\n",
       "        2.65955888e-02, -5.96733578e-02,  2.84825563e-01, -3.28778982e-01,\n",
       "       -1.27402961e-01,  2.69915760e-01,  2.25362554e-01,  7.59485960e-02,\n",
       "        2.59915829e-01, -4.40389737e-02, -2.04775006e-01,  3.10965717e-01],\n",
       "      dtype=float32)"
      ]
     },
     "execution_count": 60,
     "metadata": {},
     "output_type": "execute_result"
    }
   ],
   "source": [
    "biases"
   ]
  }
 ],
 "metadata": {
  "kernelspec": {
   "display_name": "gputest",
   "language": "python",
   "name": "gputest"
  },
  "language_info": {
   "codemirror_mode": {
    "name": "ipython",
    "version": 3
   },
   "file_extension": ".py",
   "mimetype": "text/x-python",
   "name": "python",
   "nbconvert_exporter": "python",
   "pygments_lexer": "ipython3",
   "version": "3.7.4"
  }
 },
 "nbformat": 4,
 "nbformat_minor": 2
}
