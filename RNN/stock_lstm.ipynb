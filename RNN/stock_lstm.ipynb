{
 "cells": [
  {
   "cell_type": "code",
   "execution_count": 1,
   "metadata": {},
   "outputs": [
    {
     "name": "stderr",
     "output_type": "stream",
     "text": [
      "Using TensorFlow backend.\n"
     ]
    }
   ],
   "source": [
    "import numpy as np\n",
    "import pandas as pd\n",
    "import matplotlib.pyplot as plt\n",
    "from sklearn.preprocessing import MinMaxScaler\n",
    "\n",
    "from keras.models import Sequential\n",
    "from keras.layers import Dense , LSTM , Dropout"
   ]
  },
  {
   "cell_type": "code",
   "execution_count": 2,
   "metadata": {},
   "outputs": [],
   "source": [
    "dataset = pd.read_csv('Google_Stock_Price_Train.csv')\n",
    "dataset_test = pd.read_csv('Google_Stock_Price_Test.csv')"
   ]
  },
  {
   "cell_type": "code",
   "execution_count": 3,
   "metadata": {},
   "outputs": [
    {
     "data": {
      "text/html": [
       "<div>\n",
       "<style scoped>\n",
       "    .dataframe tbody tr th:only-of-type {\n",
       "        vertical-align: middle;\n",
       "    }\n",
       "\n",
       "    .dataframe tbody tr th {\n",
       "        vertical-align: top;\n",
       "    }\n",
       "\n",
       "    .dataframe thead th {\n",
       "        text-align: right;\n",
       "    }\n",
       "</style>\n",
       "<table border=\"1\" class=\"dataframe\">\n",
       "  <thead>\n",
       "    <tr style=\"text-align: right;\">\n",
       "      <th></th>\n",
       "      <th>Date</th>\n",
       "      <th>Open</th>\n",
       "      <th>High</th>\n",
       "      <th>Low</th>\n",
       "      <th>Close</th>\n",
       "      <th>Volume</th>\n",
       "    </tr>\n",
       "  </thead>\n",
       "  <tbody>\n",
       "    <tr>\n",
       "      <th>0</th>\n",
       "      <td>1/3/2012</td>\n",
       "      <td>325.25</td>\n",
       "      <td>332.83</td>\n",
       "      <td>324.97</td>\n",
       "      <td>663.59</td>\n",
       "      <td>7,380,500</td>\n",
       "    </tr>\n",
       "    <tr>\n",
       "      <th>1</th>\n",
       "      <td>1/4/2012</td>\n",
       "      <td>331.27</td>\n",
       "      <td>333.87</td>\n",
       "      <td>329.08</td>\n",
       "      <td>666.45</td>\n",
       "      <td>5,749,400</td>\n",
       "    </tr>\n",
       "    <tr>\n",
       "      <th>2</th>\n",
       "      <td>1/5/2012</td>\n",
       "      <td>329.83</td>\n",
       "      <td>330.75</td>\n",
       "      <td>326.89</td>\n",
       "      <td>657.21</td>\n",
       "      <td>6,590,300</td>\n",
       "    </tr>\n",
       "    <tr>\n",
       "      <th>3</th>\n",
       "      <td>1/6/2012</td>\n",
       "      <td>328.34</td>\n",
       "      <td>328.77</td>\n",
       "      <td>323.68</td>\n",
       "      <td>648.24</td>\n",
       "      <td>5,405,900</td>\n",
       "    </tr>\n",
       "    <tr>\n",
       "      <th>4</th>\n",
       "      <td>1/9/2012</td>\n",
       "      <td>322.04</td>\n",
       "      <td>322.29</td>\n",
       "      <td>309.46</td>\n",
       "      <td>620.76</td>\n",
       "      <td>11,688,800</td>\n",
       "    </tr>\n",
       "  </tbody>\n",
       "</table>\n",
       "</div>"
      ],
      "text/plain": [
       "       Date    Open    High     Low   Close      Volume\n",
       "0  1/3/2012  325.25  332.83  324.97  663.59   7,380,500\n",
       "1  1/4/2012  331.27  333.87  329.08  666.45   5,749,400\n",
       "2  1/5/2012  329.83  330.75  326.89  657.21   6,590,300\n",
       "3  1/6/2012  328.34  328.77  323.68  648.24   5,405,900\n",
       "4  1/9/2012  322.04  322.29  309.46  620.76  11,688,800"
      ]
     },
     "execution_count": 3,
     "metadata": {},
     "output_type": "execute_result"
    }
   ],
   "source": [
    "dataset.head()"
   ]
  },
  {
   "cell_type": "code",
   "execution_count": 4,
   "metadata": {},
   "outputs": [
    {
     "data": {
      "text/plain": [
       "Date      0\n",
       "Open      0\n",
       "High      0\n",
       "Low       0\n",
       "Close     0\n",
       "Volume    0\n",
       "dtype: int64"
      ]
     },
     "execution_count": 4,
     "metadata": {},
     "output_type": "execute_result"
    }
   ],
   "source": [
    "dataset.isnull().sum()"
   ]
  },
  {
   "cell_type": "code",
   "execution_count": 5,
   "metadata": {},
   "outputs": [
    {
     "data": {
      "text/plain": [
       "array([[325.25],\n",
       "       [331.27],\n",
       "       [329.83],\n",
       "       ...,\n",
       "       [793.7 ],\n",
       "       [783.33],\n",
       "       [782.75]])"
      ]
     },
     "execution_count": 5,
     "metadata": {},
     "output_type": "execute_result"
    }
   ],
   "source": [
    "training_data = dataset.iloc[: , 1:2].values\n",
    "training_data"
   ]
  },
  {
   "cell_type": "code",
   "execution_count": 6,
   "metadata": {},
   "outputs": [
    {
     "data": {
      "text/plain": [
       "array([[0.08581368],\n",
       "       [0.09701243],\n",
       "       [0.09433366],\n",
       "       ...,\n",
       "       [0.95725128],\n",
       "       [0.93796041],\n",
       "       [0.93688146]])"
      ]
     },
     "execution_count": 6,
     "metadata": {},
     "output_type": "execute_result"
    }
   ],
   "source": [
    "sc = MinMaxScaler(feature_range = (0 , 1))\n",
    "scaled_train_data = sc.fit_transform(training_data)\n",
    "scaled_train_data"
   ]
  },
  {
   "cell_type": "code",
   "execution_count": 7,
   "metadata": {},
   "outputs": [],
   "source": [
    "X_train = []\n",
    "y_train = []\n",
    "\n",
    "for i in range(60 , 1258):\n",
    "    X_train.append(scaled_train_data[i - 60 : i , 0])\n",
    "    y_train.append(scaled_train_data[i , 0])\n",
    "    \n",
    "    \n",
    "X_train , y_train = np.array(X_train) , np.array(y_train)"
   ]
  },
  {
   "cell_type": "code",
   "execution_count": 8,
   "metadata": {},
   "outputs": [
    {
     "data": {
      "text/plain": [
       "array([[0.08581368, 0.09701243, 0.09433366, ..., 0.07846566, 0.08034452,\n",
       "        0.08497656],\n",
       "       [0.09701243, 0.09433366, 0.09156187, ..., 0.08034452, 0.08497656,\n",
       "        0.08627874],\n",
       "       [0.09433366, 0.09156187, 0.07984225, ..., 0.08497656, 0.08627874,\n",
       "        0.08471612],\n",
       "       ...,\n",
       "       [0.92106928, 0.92438053, 0.93048218, ..., 0.95475854, 0.95204256,\n",
       "        0.95163331],\n",
       "       [0.92438053, 0.93048218, 0.9299055 , ..., 0.95204256, 0.95163331,\n",
       "        0.95725128],\n",
       "       [0.93048218, 0.9299055 , 0.93113327, ..., 0.95163331, 0.95725128,\n",
       "        0.93796041]])"
      ]
     },
     "execution_count": 8,
     "metadata": {},
     "output_type": "execute_result"
    }
   ],
   "source": [
    "X_train"
   ]
  },
  {
   "cell_type": "code",
   "execution_count": 9,
   "metadata": {},
   "outputs": [
    {
     "data": {
      "text/plain": [
       "array([[[0.08581368],\n",
       "        [0.09701243],\n",
       "        [0.09433366],\n",
       "        ...,\n",
       "        [0.07846566],\n",
       "        [0.08034452],\n",
       "        [0.08497656]],\n",
       "\n",
       "       [[0.09701243],\n",
       "        [0.09433366],\n",
       "        [0.09156187],\n",
       "        ...,\n",
       "        [0.08034452],\n",
       "        [0.08497656],\n",
       "        [0.08627874]],\n",
       "\n",
       "       [[0.09433366],\n",
       "        [0.09156187],\n",
       "        [0.07984225],\n",
       "        ...,\n",
       "        [0.08497656],\n",
       "        [0.08627874],\n",
       "        [0.08471612]],\n",
       "\n",
       "       ...,\n",
       "\n",
       "       [[0.92106928],\n",
       "        [0.92438053],\n",
       "        [0.93048218],\n",
       "        ...,\n",
       "        [0.95475854],\n",
       "        [0.95204256],\n",
       "        [0.95163331]],\n",
       "\n",
       "       [[0.92438053],\n",
       "        [0.93048218],\n",
       "        [0.9299055 ],\n",
       "        ...,\n",
       "        [0.95204256],\n",
       "        [0.95163331],\n",
       "        [0.95725128]],\n",
       "\n",
       "       [[0.93048218],\n",
       "        [0.9299055 ],\n",
       "        [0.93113327],\n",
       "        ...,\n",
       "        [0.95163331],\n",
       "        [0.95725128],\n",
       "        [0.93796041]]])"
      ]
     },
     "execution_count": 9,
     "metadata": {},
     "output_type": "execute_result"
    }
   ],
   "source": [
    "X_train = np.reshape(X_train , (X_train.shape[0] , X_train.shape[1] , 1))\n",
    "X_train"
   ]
  },
  {
   "cell_type": "code",
   "execution_count": 10,
   "metadata": {},
   "outputs": [
    {
     "data": {
      "text/plain": [
       "(1198, 60, 1)"
      ]
     },
     "execution_count": 10,
     "metadata": {},
     "output_type": "execute_result"
    }
   ],
   "source": [
    "X_train.shape"
   ]
  },
  {
   "cell_type": "code",
   "execution_count": 11,
   "metadata": {},
   "outputs": [],
   "source": [
    "regressor = Sequential()\n",
    "\n",
    "regressor.add(LSTM(units = 50 , return_sequences = True , input_shape = (X_train.shape[1] , 1)))\n",
    "regressor.add(Dropout(0.2))"
   ]
  },
  {
   "cell_type": "code",
   "execution_count": 12,
   "metadata": {},
   "outputs": [],
   "source": [
    "regressor.add(LSTM(units = 50 , return_sequences = True))\n",
    "regressor.add(Dropout(0.2))\n",
    "\n",
    "regressor.add(LSTM(units = 50 , return_sequences = True))\n",
    "regressor.add(Dropout(0.2))\n",
    "\n",
    "regressor.add(LSTM(units = 50))\n",
    "regressor.add(Dropout(0.2))"
   ]
  },
  {
   "cell_type": "code",
   "execution_count": 13,
   "metadata": {},
   "outputs": [],
   "source": [
    "regressor.add(Dense(units = 1))"
   ]
  },
  {
   "cell_type": "code",
   "execution_count": 14,
   "metadata": {},
   "outputs": [],
   "source": [
    "regressor.compile(optimizer = 'adam' , loss = 'mean_squared_error')"
   ]
  },
  {
   "cell_type": "code",
   "execution_count": null,
   "metadata": {},
   "outputs": [
    {
     "name": "stdout",
     "output_type": "stream",
     "text": [
      "Epoch 1/75\n",
      "1198/1198 [==============================] - 28s 24ms/step - loss: 0.0362\n",
      "Epoch 2/75\n",
      "1198/1198 [==============================] - 23s 19ms/step - loss: 0.0070\n",
      "Epoch 3/75\n",
      "1198/1198 [==============================] - 21s 18ms/step - loss: 0.0054\n",
      "Epoch 4/75\n",
      "1198/1198 [==============================] - 22s 18ms/step - loss: 0.0049\n",
      "Epoch 5/75\n",
      "1198/1198 [==============================] - 22s 18ms/step - loss: 0.0049\n",
      "Epoch 6/75\n",
      "1198/1198 [==============================] - 21s 17ms/step - loss: 0.0046\n",
      "Epoch 7/75\n",
      "1198/1198 [==============================] - 23s 19ms/step - loss: 0.0047\n",
      "Epoch 8/75\n",
      "1198/1198 [==============================] - 24s 20ms/step - loss: 0.0044\n",
      "Epoch 9/75\n",
      "1198/1198 [==============================] - 22s 18ms/step - loss: 0.0042\n",
      "Epoch 10/75\n",
      "1198/1198 [==============================] - 22s 18ms/step - loss: 0.0041\n",
      "Epoch 11/75\n",
      "1198/1198 [==============================] - 22s 19ms/step - loss: 0.0040\n",
      "Epoch 12/75\n",
      "1198/1198 [==============================] - 21s 18ms/step - loss: 0.0040\n",
      "Epoch 13/75\n",
      "1198/1198 [==============================] - 21s 18ms/step - loss: 0.0040\n",
      "Epoch 14/75\n",
      "1198/1198 [==============================] - 22s 18ms/step - loss: 0.0036\n",
      "Epoch 15/75\n",
      "1198/1198 [==============================] - 20s 16ms/step - loss: 0.0038\n",
      "Epoch 16/75\n",
      "1198/1198 [==============================] - 20s 17ms/step - loss: 0.0038\n",
      "Epoch 17/75\n",
      "1198/1198 [==============================] - 22s 19ms/step - loss: 0.0036\n",
      "Epoch 18/75\n",
      "1198/1198 [==============================] - 22s 18ms/step - loss: 0.0039\n",
      "Epoch 19/75\n",
      "1198/1198 [==============================] - 21s 18ms/step - loss: 0.0038\n",
      "Epoch 20/75\n",
      "1198/1198 [==============================] - 18s 15ms/step - loss: 0.0036\n",
      "Epoch 21/75\n",
      "1198/1198 [==============================] - 18s 15ms/step - loss: 0.0036\n",
      "Epoch 22/75\n",
      "1198/1198 [==============================] - 18s 15ms/step - loss: 0.0033\n",
      "Epoch 23/75\n",
      "1198/1198 [==============================] - 18s 15ms/step - loss: 0.0035\n",
      "Epoch 24/75\n",
      "1198/1198 [==============================] - 18s 15ms/step - loss: 0.0039\n",
      "Epoch 25/75\n",
      "1198/1198 [==============================] - 18s 15ms/step - loss: 0.0036\n",
      "Epoch 26/75\n",
      "1198/1198 [==============================] - 18s 15ms/step - loss: 0.0032\n",
      "Epoch 27/75\n",
      "1198/1198 [==============================] - 18s 15ms/step - loss: 0.0033\n",
      "Epoch 28/75\n",
      "1198/1198 [==============================] - 18s 15ms/step - loss: 0.0034\n",
      "Epoch 29/75\n",
      "1198/1198 [==============================] - 18s 15ms/step - loss: 0.0032\n",
      "Epoch 30/75\n",
      "1198/1198 [==============================] - 18s 15ms/step - loss: 0.0033\n",
      "Epoch 31/75\n",
      "1198/1198 [==============================] - 18s 15ms/step - loss: 0.0033\n",
      "Epoch 32/75\n",
      "1198/1198 [==============================] - 18s 15ms/step - loss: 0.0030\n",
      "Epoch 33/75\n",
      "1198/1198 [==============================] - 18s 15ms/step - loss: 0.0032\n",
      "Epoch 34/75\n",
      "1198/1198 [==============================] - 18s 15ms/step - loss: 0.0033\n",
      "Epoch 35/75\n",
      "1198/1198 [==============================] - 18s 15ms/step - loss: 0.0035\n",
      "Epoch 36/75\n",
      "1198/1198 [==============================] - 18s 15ms/step - loss: 0.0030\n",
      "Epoch 37/75\n",
      "1198/1198 [==============================] - 20s 16ms/step - loss: 0.0031\n",
      "Epoch 38/75\n",
      "1198/1198 [==============================] - 21s 17ms/step - loss: 0.0028\n",
      "Epoch 39/75\n",
      "1198/1198 [==============================] - 20s 17ms/step - loss: 0.0031\n",
      "Epoch 40/75\n",
      "1198/1198 [==============================] - 18s 15ms/step - loss: 0.0031\n",
      "Epoch 41/75\n",
      "1198/1198 [==============================] - 18s 15ms/step - loss: 0.0031\n",
      "Epoch 42/75\n",
      "1198/1198 [==============================] - 22s 18ms/step - loss: 0.0030\n",
      "Epoch 43/75\n",
      "1198/1198 [==============================] - 18s 15ms/step - loss: 0.0031\n",
      "Epoch 44/75\n",
      "1198/1198 [==============================] - 18s 15ms/step - loss: 0.0028\n",
      "Epoch 45/75\n",
      "1198/1198 [==============================] - 18s 15ms/step - loss: 0.0030\n",
      "Epoch 46/75\n",
      "1198/1198 [==============================] - 18s 15ms/step - loss: 0.0027\n",
      "Epoch 47/75\n",
      "1198/1198 [==============================] - 18s 15ms/step - loss: 0.0029\n",
      "Epoch 48/75\n",
      "1198/1198 [==============================] - 18s 15ms/step - loss: 0.0029\n",
      "Epoch 49/75\n",
      "1198/1198 [==============================] - 19s 16ms/step - loss: 0.0028\n",
      "Epoch 50/75\n",
      "1198/1198 [==============================] - 18s 15ms/step - loss: 0.0027\n",
      "Epoch 51/75\n",
      "1198/1198 [==============================] - 18s 15ms/step - loss: 0.0028\n",
      "Epoch 52/75\n",
      "1198/1198 [==============================] - 18s 15ms/step - loss: 0.0027\n",
      "Epoch 53/75\n",
      "1198/1198 [==============================] - 18s 15ms/step - loss: 0.0028\n",
      "Epoch 54/75\n",
      "1198/1198 [==============================] - 18s 15ms/step - loss: 0.0029\n",
      "Epoch 55/75\n",
      "1198/1198 [==============================] - 18s 15ms/step - loss: 0.0028\n",
      "Epoch 56/75\n",
      "1198/1198 [==============================] - 18s 15ms/step - loss: 0.0028\n",
      "Epoch 57/75\n",
      "1198/1198 [==============================] - 18s 15ms/step - loss: 0.0027\n",
      "Epoch 58/75\n",
      "1198/1198 [==============================] - 18s 15ms/step - loss: 0.0029\n",
      "Epoch 59/75\n",
      "1198/1198 [==============================] - 18s 15ms/step - loss: 0.0028\n",
      "Epoch 60/75\n",
      "1198/1198 [==============================] - 18s 15ms/step - loss: 0.0026\n",
      "Epoch 61/75\n",
      "1198/1198 [==============================] - 18s 15ms/step - loss: 0.0027\n",
      "Epoch 62/75\n",
      "1198/1198 [==============================] - 18s 15ms/step - loss: 0.0027\n",
      "Epoch 63/75\n",
      "1198/1198 [==============================] - 18s 15ms/step - loss: 0.0025\n",
      "Epoch 64/75\n",
      "1198/1198 [==============================] - 18s 15ms/step - loss: 0.0026\n",
      "Epoch 65/75\n",
      "1198/1198 [==============================] - 21s 17ms/step - loss: 0.0025\n",
      "Epoch 66/75\n",
      " 320/1198 [=======>......................] - ETA: 16s - loss: 0.0020"
     ]
    }
   ],
   "source": [
    "regressor.fit(X_train , y_train , epochs = 15 , batch_size = 32)"
   ]
  },
  {
   "cell_type": "code",
   "execution_count": null,
   "metadata": {},
   "outputs": [],
   "source": []
  }
 ],
 "metadata": {
  "kernelspec": {
   "display_name": "Python 3",
   "language": "python",
   "name": "python3"
  },
  "language_info": {
   "codemirror_mode": {
    "name": "ipython",
    "version": 3
   },
   "file_extension": ".py",
   "mimetype": "text/x-python",
   "name": "python",
   "nbconvert_exporter": "python",
   "pygments_lexer": "ipython3",
   "version": "3.7.6"
  }
 },
 "nbformat": 4,
 "nbformat_minor": 4
}
